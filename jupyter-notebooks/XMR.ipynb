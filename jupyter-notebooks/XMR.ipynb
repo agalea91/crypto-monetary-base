{
 "cells": [
  {
   "cell_type": "code",
   "execution_count": 1,
   "metadata": {},
   "outputs": [],
   "source": [
    "# Load project functions\n",
    "import crypto_monetary_base as cmb"
   ]
  },
  {
   "cell_type": "code",
   "execution_count": 2,
   "metadata": {},
   "outputs": [],
   "source": [
    "import pandas as pd\n",
    "import datetime\n",
    "from tqdm import tqdm_notebook\n",
    "\n",
    "import matplotlib.pyplot as plt\n",
    "import matplotlib as mpl\n",
    "import seaborn as sns\n",
    "%matplotlib inline\n",
    "%config InlineBackend.figure_format='retina'\n",
    "sns.set()\n",
    "plt.rcParams['figure.figsize'] = (6, 4)\n",
    "plt.rcParams['axes.labelpad'] = 10\n",
    "mpl.rc('text', usetex=True)\n",
    "plt.style.use('ggplot')\n",
    "\n",
    "from IPython.display import display"
   ]
  },
  {
   "cell_type": "code",
   "execution_count": 3,
   "metadata": {},
   "outputs": [
    {
     "data": {
      "application/json": {
       "Software versions": [
        {
         "module": "Python",
         "version": "3.6.5 64bit [GCC 4.2.1 Compatible Clang 4.0.1 (tags/RELEASE_401/final)]"
        },
        {
         "module": "IPython",
         "version": "6.4.0"
        },
        {
         "module": "OS",
         "version": "Darwin 16.7.0 x86_64 i386 64bit"
        },
        {
         "module": "pandas",
         "version": "0.23.0"
        },
        {
         "module": "matplotlib",
         "version": "2.2.2"
        },
        {
         "module": "seaborn",
         "version": "0.9.0"
        }
       ]
      },
      "text/html": [
       "<table><tr><th>Software</th><th>Version</th></tr><tr><td>Python</td><td>3.6.5 64bit [GCC 4.2.1 Compatible Clang 4.0.1 (tags/RELEASE_401/final)]</td></tr><tr><td>IPython</td><td>6.4.0</td></tr><tr><td>OS</td><td>Darwin 16.7.0 x86_64 i386 64bit</td></tr><tr><td>pandas</td><td>0.23.0</td></tr><tr><td>matplotlib</td><td>2.2.2</td></tr><tr><td>seaborn</td><td>0.9.0</td></tr><tr><td colspan='2'>Wed Dec 26 11:32:13 2018 EST</td></tr></table>"
      ],
      "text/latex": [
       "\\begin{tabular}{|l|l|}\\hline\n",
       "{\\bf Software} & {\\bf Version} \\\\ \\hline\\hline\n",
       "Python & 3.6.5 64bit [GCC 4.2.1 Compatible Clang 4.0.1 (tags/RELEASE\\_401/final)] \\\\ \\hline\n",
       "IPython & 6.4.0 \\\\ \\hline\n",
       "OS & Darwin 16.7.0 x86\\_64 i386 64bit \\\\ \\hline\n",
       "pandas & 0.23.0 \\\\ \\hline\n",
       "matplotlib & 2.2.2 \\\\ \\hline\n",
       "seaborn & 0.9.0 \\\\ \\hline\n",
       "\\hline \\multicolumn{2}{|l|}{Wed Dec 26 11:32:13 2018 EST} \\\\ \\hline\n",
       "\\end{tabular}\n"
      ],
      "text/plain": [
       "Software versions\n",
       "Python 3.6.5 64bit [GCC 4.2.1 Compatible Clang 4.0.1 (tags/RELEASE_401/final)]\n",
       "IPython 6.4.0\n",
       "OS Darwin 16.7.0 x86_64 i386 64bit\n",
       "pandas 0.23.0\n",
       "matplotlib 2.2.2\n",
       "seaborn 0.9.0\n",
       "Wed Dec 26 11:32:13 2018 EST"
      ]
     },
     "execution_count": 3,
     "metadata": {},
     "output_type": "execute_result"
    }
   ],
   "source": [
    "%load_ext version_information\n",
    "%version_information pandas, matplotlib, seaborn"
   ]
  },
  {
   "cell_type": "markdown",
   "metadata": {},
   "source": [
    "## Supply Curve Calculation"
   ]
  },
  {
   "cell_type": "code",
   "execution_count": 4,
   "metadata": {},
   "outputs": [],
   "source": [
    "COIN_SYMBOL = 'XMR'"
   ]
  },
  {
   "cell_type": "code",
   "execution_count": 5,
   "metadata": {},
   "outputs": [],
   "source": [
    "def get_block_reward(current_supply):\n",
    "    # https://www.reddit.com/r/Monero/comments/512kwh/useful_for_learning_about_monero_coin_emission/\n",
    "    A = current_supply * 1e12\n",
    "    M = 2**63\n",
    "    block_reward = int((M-A) / (2**19)) / 1e12\n",
    "    block_reward = max(0.6, block_reward)\n",
    "    return block_reward\n",
    "\n",
    "def datetime_xmr_supply_curve(num_days):\n",
    "    supply = [\n",
    "        # Total supply,\n",
    "    ]\n",
    "    start_date = datetime.date(2014, 4, 18)\n",
    "    y = 0\n",
    "    for day in range(num_days):\n",
    "        if day == 0:\n",
    "            y += 25332.75  # Set the first value manually\n",
    "                           # https://docs.google.com/spreadsheets/d/1qXi7zUSIh7F6UuSuhOryyFbHEy_LJuym3I3neAga_2s\n",
    "            supply.append([y])\n",
    "            continue\n",
    "        block_reward = get_block_reward(y)\n",
    "        y += (block_reward * (30 * 24)) # add daily inflation\n",
    "        supply.append([y])\n",
    "\n",
    "    df = pd.DataFrame(\n",
    "        supply, columns=['total_supply']\n",
    "    )\n",
    "    df['total_supply_pct'] = (\n",
    "        df['total_supply'] / df['total_supply'].values[-1]\n",
    "        * 100\n",
    "    )\n",
    "    df['date'] = pd.date_range(\n",
    "        start=start_date,\n",
    "        freq='D',\n",
    "        periods=len(df)\n",
    "    )\n",
    "    return df"
   ]
  },
  {
   "cell_type": "code",
   "execution_count": 6,
   "metadata": {},
   "outputs": [
    {
     "data": {
      "text/html": [
       "<div>\n",
       "<style scoped>\n",
       "    .dataframe tbody tr th:only-of-type {\n",
       "        vertical-align: middle;\n",
       "    }\n",
       "\n",
       "    .dataframe tbody tr th {\n",
       "        vertical-align: top;\n",
       "    }\n",
       "\n",
       "    .dataframe thead th {\n",
       "        text-align: right;\n",
       "    }\n",
       "</style>\n",
       "<table border=\"1\" class=\"dataframe\">\n",
       "  <thead>\n",
       "    <tr style=\"text-align: right;\">\n",
       "      <th></th>\n",
       "      <th>total_supply</th>\n",
       "      <th>total_supply_pct</th>\n",
       "      <th>date</th>\n",
       "    </tr>\n",
       "  </thead>\n",
       "  <tbody>\n",
       "    <tr>\n",
       "      <th>0</th>\n",
       "      <td>25332.750000</td>\n",
       "      <td>0.259358</td>\n",
       "      <td>2014-04-18</td>\n",
       "    </tr>\n",
       "    <tr>\n",
       "      <th>1</th>\n",
       "      <td>37964.334714</td>\n",
       "      <td>0.388681</td>\n",
       "      <td>2014-04-19</td>\n",
       "    </tr>\n",
       "    <tr>\n",
       "      <th>2</th>\n",
       "      <td>50578.572586</td>\n",
       "      <td>0.517826</td>\n",
       "      <td>2014-04-20</td>\n",
       "    </tr>\n",
       "    <tr>\n",
       "      <th>3</th>\n",
       "      <td>63175.487439</td>\n",
       "      <td>0.646794</td>\n",
       "      <td>2014-04-21</td>\n",
       "    </tr>\n",
       "    <tr>\n",
       "      <th>4</th>\n",
       "      <td>75755.103062</td>\n",
       "      <td>0.775584</td>\n",
       "      <td>2014-04-22</td>\n",
       "    </tr>\n",
       "  </tbody>\n",
       "</table>\n",
       "</div>"
      ],
      "text/plain": [
       "   total_supply  total_supply_pct       date\n",
       "0  25332.750000          0.259358 2014-04-18\n",
       "1  37964.334714          0.388681 2014-04-19\n",
       "2  50578.572586          0.517826 2014-04-20\n",
       "3  63175.487439          0.646794 2014-04-21\n",
       "4  75755.103062          0.775584 2014-04-22"
      ]
     },
     "metadata": {},
     "output_type": "display_data"
    },
    {
     "data": {
      "text/html": [
       "<div>\n",
       "<style scoped>\n",
       "    .dataframe tbody tr th:only-of-type {\n",
       "        vertical-align: middle;\n",
       "    }\n",
       "\n",
       "    .dataframe tbody tr th {\n",
       "        vertical-align: top;\n",
       "    }\n",
       "\n",
       "    .dataframe thead th {\n",
       "        text-align: right;\n",
       "    }\n",
       "</style>\n",
       "<table border=\"1\" class=\"dataframe\">\n",
       "  <thead>\n",
       "    <tr style=\"text-align: right;\">\n",
       "      <th></th>\n",
       "      <th>total_supply</th>\n",
       "      <th>total_supply_pct</th>\n",
       "      <th>date</th>\n",
       "    </tr>\n",
       "  </thead>\n",
       "  <tbody>\n",
       "    <tr>\n",
       "      <th>4440</th>\n",
       "      <td>9.765759e+06</td>\n",
       "      <td>99.982309</td>\n",
       "      <td>2026-06-14</td>\n",
       "    </tr>\n",
       "    <tr>\n",
       "      <th>4441</th>\n",
       "      <td>9.766191e+06</td>\n",
       "      <td>99.986731</td>\n",
       "      <td>2026-06-15</td>\n",
       "    </tr>\n",
       "    <tr>\n",
       "      <th>4442</th>\n",
       "      <td>9.766623e+06</td>\n",
       "      <td>99.991154</td>\n",
       "      <td>2026-06-16</td>\n",
       "    </tr>\n",
       "    <tr>\n",
       "      <th>4443</th>\n",
       "      <td>9.767055e+06</td>\n",
       "      <td>99.995577</td>\n",
       "      <td>2026-06-17</td>\n",
       "    </tr>\n",
       "    <tr>\n",
       "      <th>4444</th>\n",
       "      <td>9.767487e+06</td>\n",
       "      <td>100.000000</td>\n",
       "      <td>2026-06-18</td>\n",
       "    </tr>\n",
       "  </tbody>\n",
       "</table>\n",
       "</div>"
      ],
      "text/plain": [
       "      total_supply  total_supply_pct       date\n",
       "4440  9.765759e+06         99.982309 2026-06-14\n",
       "4441  9.766191e+06         99.986731 2026-06-15\n",
       "4442  9.766623e+06         99.991154 2026-06-16\n",
       "4443  9.767055e+06         99.995577 2026-06-17\n",
       "4444  9.767487e+06        100.000000 2026-06-18"
      ]
     },
     "metadata": {},
     "output_type": "display_data"
    },
    {
     "data": {
      "image/png": "[encoded data removed]",
      "text/plain": [
       "<Figure size 432x288 with 1 Axes>"
      ]
     },
     "metadata": {
      "image/png": {
       "height": 278,
       "width": 375
      }
     },
     "output_type": "display_data"
    }
   ],
   "source": [
    "supply = datetime_xmr_supply_curve(num_days=4445)\n",
    "display(supply.head())\n",
    "display(supply.tail())\n",
    "\n",
    "cmb.plot_supply_curve(\n",
    "    supply,\n",
    "    'XMR',\n",
    "    fmt='-',\n",
    "    plot_pct=False,\n",
    "    out_name='XMR_short',\n",
    ");"
   ]
  },
  {
   "cell_type": "code",
   "execution_count": 7,
   "metadata": {},
   "outputs": [
    {
     "data": {
      "text/html": [
       "<div>\n",
       "<style scoped>\n",
       "    .dataframe tbody tr th:only-of-type {\n",
       "        vertical-align: middle;\n",
       "    }\n",
       "\n",
       "    .dataframe tbody tr th {\n",
       "        vertical-align: top;\n",
       "    }\n",
       "\n",
       "    .dataframe thead th {\n",
       "        text-align: right;\n",
       "    }\n",
       "</style>\n",
       "<table border=\"1\" class=\"dataframe\">\n",
       "  <thead>\n",
       "    <tr style=\"text-align: right;\">\n",
       "      <th></th>\n",
       "      <th>total_supply</th>\n",
       "      <th>total_supply_pct</th>\n",
       "      <th>date</th>\n",
       "    </tr>\n",
       "  </thead>\n",
       "  <tbody>\n",
       "    <tr>\n",
       "      <th>0</th>\n",
       "      <td>25332.750000</td>\n",
       "      <td>0.093653</td>\n",
       "      <td>2014-04-18</td>\n",
       "    </tr>\n",
       "    <tr>\n",
       "      <th>1</th>\n",
       "      <td>37964.334714</td>\n",
       "      <td>0.140351</td>\n",
       "      <td>2014-04-19</td>\n",
       "    </tr>\n",
       "    <tr>\n",
       "      <th>2</th>\n",
       "      <td>50578.572586</td>\n",
       "      <td>0.186984</td>\n",
       "      <td>2014-04-20</td>\n",
       "    </tr>\n",
       "    <tr>\n",
       "      <th>3</th>\n",
       "      <td>63175.487439</td>\n",
       "      <td>0.233554</td>\n",
       "      <td>2014-04-21</td>\n",
       "    </tr>\n",
       "    <tr>\n",
       "      <th>4</th>\n",
       "      <td>75755.103062</td>\n",
       "      <td>0.280059</td>\n",
       "      <td>2014-04-22</td>\n",
       "    </tr>\n",
       "  </tbody>\n",
       "</table>\n",
       "</div>"
      ],
      "text/plain": [
       "   total_supply  total_supply_pct       date\n",
       "0  25332.750000          0.093653 2014-04-18\n",
       "1  37964.334714          0.140351 2014-04-19\n",
       "2  50578.572586          0.186984 2014-04-20\n",
       "3  63175.487439          0.233554 2014-04-21\n",
       "4  75755.103062          0.280059 2014-04-22"
      ]
     },
     "metadata": {},
     "output_type": "display_data"
    },
    {
     "data": {
      "text/html": [
       "<div>\n",
       "<style scoped>\n",
       "    .dataframe tbody tr th:only-of-type {\n",
       "        vertical-align: middle;\n",
       "    }\n",
       "\n",
       "    .dataframe tbody tr th {\n",
       "        vertical-align: top;\n",
       "    }\n",
       "\n",
       "    .dataframe thead th {\n",
       "        text-align: right;\n",
       "    }\n",
       "</style>\n",
       "<table border=\"1\" class=\"dataframe\">\n",
       "  <thead>\n",
       "    <tr style=\"text-align: right;\">\n",
       "      <th></th>\n",
       "      <th>total_supply</th>\n",
       "      <th>total_supply_pct</th>\n",
       "      <th>date</th>\n",
       "    </tr>\n",
       "  </thead>\n",
       "  <tbody>\n",
       "    <tr>\n",
       "      <th>44445</th>\n",
       "      <td>2.704792e+07</td>\n",
       "      <td>99.993612</td>\n",
       "      <td>2135-12-25</td>\n",
       "    </tr>\n",
       "    <tr>\n",
       "      <th>44446</th>\n",
       "      <td>2.704835e+07</td>\n",
       "      <td>99.995209</td>\n",
       "      <td>2135-12-26</td>\n",
       "    </tr>\n",
       "    <tr>\n",
       "      <th>44447</th>\n",
       "      <td>2.704878e+07</td>\n",
       "      <td>99.996806</td>\n",
       "      <td>2135-12-27</td>\n",
       "    </tr>\n",
       "    <tr>\n",
       "      <th>44448</th>\n",
       "      <td>2.704921e+07</td>\n",
       "      <td>99.998403</td>\n",
       "      <td>2135-12-28</td>\n",
       "    </tr>\n",
       "    <tr>\n",
       "      <th>44449</th>\n",
       "      <td>2.704965e+07</td>\n",
       "      <td>100.000000</td>\n",
       "      <td>2135-12-29</td>\n",
       "    </tr>\n",
       "  </tbody>\n",
       "</table>\n",
       "</div>"
      ],
      "text/plain": [
       "       total_supply  total_supply_pct       date\n",
       "44445  2.704792e+07         99.993612 2135-12-25\n",
       "44446  2.704835e+07         99.995209 2135-12-26\n",
       "44447  2.704878e+07         99.996806 2135-12-27\n",
       "44448  2.704921e+07         99.998403 2135-12-28\n",
       "44449  2.704965e+07        100.000000 2135-12-29"
      ]
     },
     "metadata": {},
     "output_type": "display_data"
    },
    {
     "data": {
      "image/png": "[encoded data removed]",
      "text/plain": [
       "<Figure size 432x288 with 1 Axes>"
      ]
     },
     "metadata": {
      "image/png": {
       "height": 278,
       "width": 375
      }
     },
     "output_type": "display_data"
    }
   ],
   "source": [
    "supply = datetime_xmr_supply_curve(num_days=44450)\n",
    "display(supply.head())\n",
    "display(supply.tail())\n",
    "\n",
    "cmb.plot_supply_curve(\n",
    "    supply,\n",
    "    'XMR',\n",
    "    fmt='-',\n",
    "    plot_pct=False,\n",
    "    out_name='XMR_long',\n",
    ");"
   ]
  },
  {
   "cell_type": "code",
   "execution_count": 8,
   "metadata": {},
   "outputs": [
    {
     "data": {
      "image/png": "[encoded data removed]",
      "text/plain": [
       "<Figure size 432x288 with 1 Axes>"
      ]
     },
     "metadata": {
      "image/png": {
       "height": 278,
       "width": 387
      }
     },
     "output_type": "display_data"
    }
   ],
   "source": [
    "cmb.plot_supply_curve(\n",
    "    supply,\n",
    "    'XMR',\n",
    "    fmt='-',\n",
    "    out_name='XMR_long_pct',\n",
    ");"
   ]
  },
  {
   "cell_type": "markdown",
   "metadata": {},
   "source": [
    "## Standardize Time Series"
   ]
  },
  {
   "cell_type": "code",
   "execution_count": 9,
   "metadata": {},
   "outputs": [
    {
     "name": "stdout",
     "output_type": "stream",
     "text": [
      "Wrote 6351 lines to file ../output-data/XMR_weekly.csv\n"
     ]
    },
    {
     "data": {
      "text/html": [
       "<div>\n",
       "<style scoped>\n",
       "    .dataframe tbody tr th:only-of-type {\n",
       "        vertical-align: middle;\n",
       "    }\n",
       "\n",
       "    .dataframe tbody tr th {\n",
       "        vertical-align: top;\n",
       "    }\n",
       "\n",
       "    .dataframe thead th {\n",
       "        text-align: right;\n",
       "    }\n",
       "</style>\n",
       "<table border=\"1\" class=\"dataframe\">\n",
       "  <thead>\n",
       "    <tr style=\"text-align: right;\">\n",
       "      <th></th>\n",
       "      <th>coin</th>\n",
       "      <th>total_supply</th>\n",
       "      <th>total_supply_pct</th>\n",
       "      <th>date</th>\n",
       "    </tr>\n",
       "  </thead>\n",
       "  <tbody>\n",
       "    <tr>\n",
       "      <th>0</th>\n",
       "      <td>XMR</td>\n",
       "      <td>25332.750000</td>\n",
       "      <td>0.093653</td>\n",
       "      <td>2014-04-01</td>\n",
       "    </tr>\n",
       "    <tr>\n",
       "      <th>1</th>\n",
       "      <td>XMR</td>\n",
       "      <td>63175.487439</td>\n",
       "      <td>0.233554</td>\n",
       "      <td>2014-04-01</td>\n",
       "    </tr>\n",
       "    <tr>\n",
       "      <th>2</th>\n",
       "      <td>XMR</td>\n",
       "      <td>150870.841072</td>\n",
       "      <td>0.557755</td>\n",
       "      <td>2014-04-01</td>\n",
       "    </tr>\n",
       "    <tr>\n",
       "      <th>3</th>\n",
       "      <td>XMR</td>\n",
       "      <td>237726.641207</td>\n",
       "      <td>0.878853</td>\n",
       "      <td>2014-05-01</td>\n",
       "    </tr>\n",
       "    <tr>\n",
       "      <th>4</th>\n",
       "      <td>XMR</td>\n",
       "      <td>323750.925330</td>\n",
       "      <td>1.196877</td>\n",
       "      <td>2014-05-01</td>\n",
       "    </tr>\n",
       "  </tbody>\n",
       "</table>\n",
       "</div>"
      ],
      "text/plain": [
       "  coin   total_supply  total_supply_pct        date\n",
       "0  XMR   25332.750000          0.093653  2014-04-01\n",
       "1  XMR   63175.487439          0.233554  2014-04-01\n",
       "2  XMR  150870.841072          0.557755  2014-04-01\n",
       "3  XMR  237726.641207          0.878853  2014-05-01\n",
       "4  XMR  323750.925330          1.196877  2014-05-01"
      ]
     },
     "metadata": {},
     "output_type": "display_data"
    },
    {
     "data": {
      "text/html": [
       "<div>\n",
       "<style scoped>\n",
       "    .dataframe tbody tr th:only-of-type {\n",
       "        vertical-align: middle;\n",
       "    }\n",
       "\n",
       "    .dataframe tbody tr th {\n",
       "        vertical-align: top;\n",
       "    }\n",
       "\n",
       "    .dataframe thead th {\n",
       "        text-align: right;\n",
       "    }\n",
       "</style>\n",
       "<table border=\"1\" class=\"dataframe\">\n",
       "  <thead>\n",
       "    <tr style=\"text-align: right;\">\n",
       "      <th></th>\n",
       "      <th>coin</th>\n",
       "      <th>total_supply</th>\n",
       "      <th>total_supply_pct</th>\n",
       "      <th>date</th>\n",
       "    </tr>\n",
       "  </thead>\n",
       "  <tbody>\n",
       "    <tr>\n",
       "      <th>6346</th>\n",
       "      <td>XMR</td>\n",
       "      <td>2.703625e+07</td>\n",
       "      <td>99.950491</td>\n",
       "      <td>2135-11-01</td>\n",
       "    </tr>\n",
       "    <tr>\n",
       "      <th>6347</th>\n",
       "      <td>XMR</td>\n",
       "      <td>2.703928e+07</td>\n",
       "      <td>99.961670</td>\n",
       "      <td>2135-12-01</td>\n",
       "    </tr>\n",
       "    <tr>\n",
       "      <th>6348</th>\n",
       "      <td>XMR</td>\n",
       "      <td>2.704230e+07</td>\n",
       "      <td>99.972850</td>\n",
       "      <td>2135-12-01</td>\n",
       "    </tr>\n",
       "    <tr>\n",
       "      <th>6349</th>\n",
       "      <td>XMR</td>\n",
       "      <td>2.704533e+07</td>\n",
       "      <td>99.984029</td>\n",
       "      <td>2135-12-01</td>\n",
       "    </tr>\n",
       "    <tr>\n",
       "      <th>6350</th>\n",
       "      <td>XMR</td>\n",
       "      <td>2.704835e+07</td>\n",
       "      <td>99.995209</td>\n",
       "      <td>2135-12-01</td>\n",
       "    </tr>\n",
       "  </tbody>\n",
       "</table>\n",
       "</div>"
      ],
      "text/plain": [
       "     coin  total_supply  total_supply_pct        date\n",
       "6346  XMR  2.703625e+07         99.950491  2135-11-01\n",
       "6347  XMR  2.703928e+07         99.961670  2135-12-01\n",
       "6348  XMR  2.704230e+07         99.972850  2135-12-01\n",
       "6349  XMR  2.704533e+07         99.984029  2135-12-01\n",
       "6350  XMR  2.704835e+07         99.995209  2135-12-01"
      ]
     },
     "metadata": {},
     "output_type": "display_data"
    }
   ],
   "source": [
    "weekly_supply = cmb.transform_supply(supply, COIN_SYMBOL, freq='weekly')\n",
    "\n",
    "display(weekly_supply.head())\n",
    "display(weekly_supply.tail())"
   ]
  },
  {
   "cell_type": "code",
   "execution_count": 10,
   "metadata": {},
   "outputs": [
    {
     "name": "stdout",
     "output_type": "stream",
     "text": [
      "Wrote 1461 lines to file ../output-data/XMR_monthly.csv\n"
     ]
    },
    {
     "data": {
      "text/html": [
       "<div>\n",
       "<style scoped>\n",
       "    .dataframe tbody tr th:only-of-type {\n",
       "        vertical-align: middle;\n",
       "    }\n",
       "\n",
       "    .dataframe tbody tr th {\n",
       "        vertical-align: top;\n",
       "    }\n",
       "\n",
       "    .dataframe thead th {\n",
       "        text-align: right;\n",
       "    }\n",
       "</style>\n",
       "<table border=\"1\" class=\"dataframe\">\n",
       "  <thead>\n",
       "    <tr style=\"text-align: right;\">\n",
       "      <th></th>\n",
       "      <th>coin</th>\n",
       "      <th>total_supply</th>\n",
       "      <th>total_supply_pct</th>\n",
       "      <th>date</th>\n",
       "    </tr>\n",
       "  </thead>\n",
       "  <tbody>\n",
       "    <tr>\n",
       "      <th>0</th>\n",
       "      <td>XMR</td>\n",
       "      <td>2.533275e+04</td>\n",
       "      <td>0.093653</td>\n",
       "      <td>2014-04-01</td>\n",
       "    </tr>\n",
       "    <tr>\n",
       "      <th>1</th>\n",
       "      <td>XMR</td>\n",
       "      <td>1.881971e+05</td>\n",
       "      <td>0.695747</td>\n",
       "      <td>2014-05-01</td>\n",
       "    </tr>\n",
       "    <tr>\n",
       "      <th>2</th>\n",
       "      <td>XMR</td>\n",
       "      <td>5.650235e+05</td>\n",
       "      <td>2.088839</td>\n",
       "      <td>2014-06-01</td>\n",
       "    </tr>\n",
       "    <tr>\n",
       "      <th>3</th>\n",
       "      <td>XMR</td>\n",
       "      <td>9.147235e+05</td>\n",
       "      <td>3.381647</td>\n",
       "      <td>2014-07-01</td>\n",
       "    </tr>\n",
       "    <tr>\n",
       "      <th>4</th>\n",
       "      <td>XMR</td>\n",
       "      <td>1.261249e+06</td>\n",
       "      <td>4.662719</td>\n",
       "      <td>2014-08-01</td>\n",
       "    </tr>\n",
       "  </tbody>\n",
       "</table>\n",
       "</div>"
      ],
      "text/plain": [
       "  coin  total_supply  total_supply_pct        date\n",
       "0  XMR  2.533275e+04          0.093653  2014-04-01\n",
       "1  XMR  1.881971e+05          0.695747  2014-05-01\n",
       "2  XMR  5.650235e+05          2.088839  2014-06-01\n",
       "3  XMR  9.147235e+05          3.381647  2014-07-01\n",
       "4  XMR  1.261249e+06          4.662719  2014-08-01"
      ]
     },
     "metadata": {},
     "output_type": "display_data"
    },
    {
     "data": {
      "text/html": [
       "<div>\n",
       "<style scoped>\n",
       "    .dataframe tbody tr th:only-of-type {\n",
       "        vertical-align: middle;\n",
       "    }\n",
       "\n",
       "    .dataframe tbody tr th {\n",
       "        vertical-align: top;\n",
       "    }\n",
       "\n",
       "    .dataframe thead th {\n",
       "        text-align: right;\n",
       "    }\n",
       "</style>\n",
       "<table border=\"1\" class=\"dataframe\">\n",
       "  <thead>\n",
       "    <tr style=\"text-align: right;\">\n",
       "      <th></th>\n",
       "      <th>coin</th>\n",
       "      <th>total_supply</th>\n",
       "      <th>total_supply_pct</th>\n",
       "      <th>date</th>\n",
       "    </tr>\n",
       "  </thead>\n",
       "  <tbody>\n",
       "    <tr>\n",
       "      <th>1456</th>\n",
       "      <td>XMR</td>\n",
       "      <td>2.698485e+07</td>\n",
       "      <td>99.760440</td>\n",
       "      <td>2135-08-01</td>\n",
       "    </tr>\n",
       "    <tr>\n",
       "      <th>1457</th>\n",
       "      <td>XMR</td>\n",
       "      <td>2.699824e+07</td>\n",
       "      <td>99.809949</td>\n",
       "      <td>2135-09-01</td>\n",
       "    </tr>\n",
       "    <tr>\n",
       "      <th>1458</th>\n",
       "      <td>XMR</td>\n",
       "      <td>2.701120e+07</td>\n",
       "      <td>99.857861</td>\n",
       "      <td>2135-10-01</td>\n",
       "    </tr>\n",
       "    <tr>\n",
       "      <th>1459</th>\n",
       "      <td>XMR</td>\n",
       "      <td>2.702459e+07</td>\n",
       "      <td>99.907370</td>\n",
       "      <td>2135-11-01</td>\n",
       "    </tr>\n",
       "    <tr>\n",
       "      <th>1460</th>\n",
       "      <td>XMR</td>\n",
       "      <td>2.703755e+07</td>\n",
       "      <td>99.955282</td>\n",
       "      <td>2135-12-01</td>\n",
       "    </tr>\n",
       "  </tbody>\n",
       "</table>\n",
       "</div>"
      ],
      "text/plain": [
       "     coin  total_supply  total_supply_pct        date\n",
       "1456  XMR  2.698485e+07         99.760440  2135-08-01\n",
       "1457  XMR  2.699824e+07         99.809949  2135-09-01\n",
       "1458  XMR  2.701120e+07         99.857861  2135-10-01\n",
       "1459  XMR  2.702459e+07         99.907370  2135-11-01\n",
       "1460  XMR  2.703755e+07         99.955282  2135-12-01"
      ]
     },
     "metadata": {},
     "output_type": "display_data"
    }
   ],
   "source": [
    "monthly_supply = cmb.transform_supply(supply, COIN_SYMBOL, freq='monthly')\n",
    "\n",
    "display(monthly_supply.head())\n",
    "display(monthly_supply.tail())"
   ]
  },
  {
   "cell_type": "code",
   "execution_count": 11,
   "metadata": {},
   "outputs": [
    {
     "name": "stdout",
     "output_type": "stream",
     "text": [
      "Wrote 122 lines to file ../output-data/XMR_yearly.csv\n"
     ]
    },
    {
     "data": {
      "text/html": [
       "<div>\n",
       "<style scoped>\n",
       "    .dataframe tbody tr th:only-of-type {\n",
       "        vertical-align: middle;\n",
       "    }\n",
       "\n",
       "    .dataframe tbody tr th {\n",
       "        vertical-align: top;\n",
       "    }\n",
       "\n",
       "    .dataframe thead th {\n",
       "        text-align: right;\n",
       "    }\n",
       "</style>\n",
       "<table border=\"1\" class=\"dataframe\">\n",
       "  <thead>\n",
       "    <tr style=\"text-align: right;\">\n",
       "      <th></th>\n",
       "      <th>coin</th>\n",
       "      <th>total_supply</th>\n",
       "      <th>total_supply_pct</th>\n",
       "      <th>date</th>\n",
       "    </tr>\n",
       "  </thead>\n",
       "  <tbody>\n",
       "    <tr>\n",
       "      <th>0</th>\n",
       "      <td>XMR</td>\n",
       "      <td>2.533275e+04</td>\n",
       "      <td>0.093653</td>\n",
       "      <td>2014-04-01</td>\n",
       "    </tr>\n",
       "    <tr>\n",
       "      <th>1</th>\n",
       "      <td>XMR</td>\n",
       "      <td>2.771065e+06</td>\n",
       "      <td>10.244367</td>\n",
       "      <td>2015-01-01</td>\n",
       "    </tr>\n",
       "    <tr>\n",
       "      <th>2</th>\n",
       "      <td>XMR</td>\n",
       "      <td>5.316090e+06</td>\n",
       "      <td>19.653084</td>\n",
       "      <td>2016-01-01</td>\n",
       "    </tr>\n",
       "    <tr>\n",
       "      <th>3</th>\n",
       "      <td>XMR</td>\n",
       "      <td>6.860514e+06</td>\n",
       "      <td>25.362674</td>\n",
       "      <td>2017-01-01</td>\n",
       "    </tr>\n",
       "    <tr>\n",
       "      <th>4</th>\n",
       "      <td>XMR</td>\n",
       "      <td>7.792511e+06</td>\n",
       "      <td>28.808181</td>\n",
       "      <td>2018-01-01</td>\n",
       "    </tr>\n",
       "  </tbody>\n",
       "</table>\n",
       "</div>"
      ],
      "text/plain": [
       "  coin  total_supply  total_supply_pct        date\n",
       "0  XMR  2.533275e+04          0.093653  2014-04-01\n",
       "1  XMR  2.771065e+06         10.244367  2015-01-01\n",
       "2  XMR  5.316090e+06         19.653084  2016-01-01\n",
       "3  XMR  6.860514e+06         25.362674  2017-01-01\n",
       "4  XMR  7.792511e+06         28.808181  2018-01-01"
      ]
     },
     "metadata": {},
     "output_type": "display_data"
    },
    {
     "data": {
      "text/html": [
       "<div>\n",
       "<style scoped>\n",
       "    .dataframe tbody tr th:only-of-type {\n",
       "        vertical-align: middle;\n",
       "    }\n",
       "\n",
       "    .dataframe tbody tr th {\n",
       "        vertical-align: top;\n",
       "    }\n",
       "\n",
       "    .dataframe thead th {\n",
       "        text-align: right;\n",
       "    }\n",
       "</style>\n",
       "<table border=\"1\" class=\"dataframe\">\n",
       "  <thead>\n",
       "    <tr style=\"text-align: right;\">\n",
       "      <th></th>\n",
       "      <th>coin</th>\n",
       "      <th>total_supply</th>\n",
       "      <th>total_supply_pct</th>\n",
       "      <th>date</th>\n",
       "    </tr>\n",
       "  </thead>\n",
       "  <tbody>\n",
       "    <tr>\n",
       "      <th>117</th>\n",
       "      <td>XMR</td>\n",
       "      <td>2.626211e+07</td>\n",
       "      <td>97.088553</td>\n",
       "      <td>2131-01-01</td>\n",
       "    </tr>\n",
       "    <tr>\n",
       "      <th>118</th>\n",
       "      <td>XMR</td>\n",
       "      <td>2.641979e+07</td>\n",
       "      <td>97.671482</td>\n",
       "      <td>2132-01-01</td>\n",
       "    </tr>\n",
       "    <tr>\n",
       "      <th>119</th>\n",
       "      <td>XMR</td>\n",
       "      <td>2.657790e+07</td>\n",
       "      <td>98.256007</td>\n",
       "      <td>2133-01-01</td>\n",
       "    </tr>\n",
       "    <tr>\n",
       "      <th>120</th>\n",
       "      <td>XMR</td>\n",
       "      <td>2.673558e+07</td>\n",
       "      <td>98.838935</td>\n",
       "      <td>2134-01-01</td>\n",
       "    </tr>\n",
       "    <tr>\n",
       "      <th>121</th>\n",
       "      <td>XMR</td>\n",
       "      <td>2.689326e+07</td>\n",
       "      <td>99.421863</td>\n",
       "      <td>2135-01-01</td>\n",
       "    </tr>\n",
       "  </tbody>\n",
       "</table>\n",
       "</div>"
      ],
      "text/plain": [
       "    coin  total_supply  total_supply_pct        date\n",
       "117  XMR  2.626211e+07         97.088553  2131-01-01\n",
       "118  XMR  2.641979e+07         97.671482  2132-01-01\n",
       "119  XMR  2.657790e+07         98.256007  2133-01-01\n",
       "120  XMR  2.673558e+07         98.838935  2134-01-01\n",
       "121  XMR  2.689326e+07         99.421863  2135-01-01"
      ]
     },
     "metadata": {},
     "output_type": "display_data"
    }
   ],
   "source": [
    "yearly_supply = cmb.transform_supply(supply, COIN_SYMBOL, freq='yearly')\n",
    "\n",
    "display(yearly_supply.head())\n",
    "display(yearly_supply.tail())"
   ]
  },
  {
   "cell_type": "code",
   "execution_count": 12,
   "metadata": {},
   "outputs": [],
   "source": []
  },
  {
   "cell_type": "code",
   "execution_count": 12,
   "metadata": {},
   "outputs": [],
   "source": []
  }
 ],
 "metadata": {
  "kernelspec": {
   "display_name": "Python [default]",
   "language": "python",
   "name": "python3"
  },
  "language_info": {
   "codemirror_mode": {
    "name": "ipython",
    "version": 3
   },
   "file_extension": ".py",
   "mimetype": "text/x-python",
   "name": "python",
   "nbconvert_exporter": "python",
   "pygments_lexer": "ipython3",
   "version": "3.6.5"
  },
  "toc": {
   "base_numbering": 1,
   "nav_menu": {},
   "number_sections": true,
   "sideBar": true,
   "skip_h1_title": false,
   "title_cell": "Table of Contents",
   "title_sidebar": "Contents",
   "toc_cell": false,
   "toc_position": {},
   "toc_section_display": true,
   "toc_window_display": false
  }
 },
 "nbformat": 4,
 "nbformat_minor": 2
}
