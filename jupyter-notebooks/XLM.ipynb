{
 "cells": [
  {
   "cell_type": "code",
   "execution_count": 1,
   "metadata": {},
   "outputs": [],
   "source": [
    "# Load project functions\n",
    "import crypto_monetary_base as cmb"
   ]
  },
  {
   "cell_type": "code",
   "execution_count": 2,
   "metadata": {},
   "outputs": [],
   "source": [
    "import pandas as pd\n",
    "import datetime\n",
    "from tqdm import tqdm_notebook\n",
    "\n",
    "import matplotlib.pyplot as plt\n",
    "import matplotlib as mpl\n",
    "import seaborn as sns\n",
    "%matplotlib inline\n",
    "%config InlineBackend.figure_format='retina'\n",
    "sns.set()\n",
    "plt.rcParams['figure.figsize'] = (6, 4)\n",
    "plt.rcParams['axes.labelpad'] = 10\n",
    "mpl.rc('text', usetex=True)\n",
    "plt.style.use('ggplot')\n",
    "\n",
    "from IPython.display import display"
   ]
  },
  {
   "cell_type": "code",
   "execution_count": 3,
   "metadata": {},
   "outputs": [
    {
     "data": {
      "application/json": {
       "Software versions": [
        {
         "module": "Python",
         "version": "3.6.5 64bit [GCC 4.2.1 Compatible Clang 4.0.1 (tags/RELEASE_401/final)]"
        },
        {
         "module": "IPython",
         "version": "6.4.0"
        },
        {
         "module": "OS",
         "version": "Darwin 16.7.0 x86_64 i386 64bit"
        },
        {
         "module": "pandas",
         "version": "0.23.0"
        },
        {
         "module": "matplotlib",
         "version": "2.2.2"
        },
        {
         "module": "seaborn",
         "version": "0.9.0"
        }
       ]
      },
      "text/html": [
       "<table><tr><th>Software</th><th>Version</th></tr><tr><td>Python</td><td>3.6.5 64bit [GCC 4.2.1 Compatible Clang 4.0.1 (tags/RELEASE_401/final)]</td></tr><tr><td>IPython</td><td>6.4.0</td></tr><tr><td>OS</td><td>Darwin 16.7.0 x86_64 i386 64bit</td></tr><tr><td>pandas</td><td>0.23.0</td></tr><tr><td>matplotlib</td><td>2.2.2</td></tr><tr><td>seaborn</td><td>0.9.0</td></tr><tr><td colspan='2'>Wed Dec 26 11:32:05 2018 EST</td></tr></table>"
      ],
      "text/latex": [
       "\\begin{tabular}{|l|l|}\\hline\n",
       "{\\bf Software} & {\\bf Version} \\\\ \\hline\\hline\n",
       "Python & 3.6.5 64bit [GCC 4.2.1 Compatible Clang 4.0.1 (tags/RELEASE\\_401/final)] \\\\ \\hline\n",
       "IPython & 6.4.0 \\\\ \\hline\n",
       "OS & Darwin 16.7.0 x86\\_64 i386 64bit \\\\ \\hline\n",
       "pandas & 0.23.0 \\\\ \\hline\n",
       "matplotlib & 2.2.2 \\\\ \\hline\n",
       "seaborn & 0.9.0 \\\\ \\hline\n",
       "\\hline \\multicolumn{2}{|l|}{Wed Dec 26 11:32:05 2018 EST} \\\\ \\hline\n",
       "\\end{tabular}\n"
      ],
      "text/plain": [
       "Software versions\n",
       "Python 3.6.5 64bit [GCC 4.2.1 Compatible Clang 4.0.1 (tags/RELEASE_401/final)]\n",
       "IPython 6.4.0\n",
       "OS Darwin 16.7.0 x86_64 i386 64bit\n",
       "pandas 0.23.0\n",
       "matplotlib 2.2.2\n",
       "seaborn 0.9.0\n",
       "Wed Dec 26 11:32:05 2018 EST"
      ]
     },
     "execution_count": 3,
     "metadata": {},
     "output_type": "execute_result"
    }
   ],
   "source": [
    "%load_ext version_information\n",
    "%version_information pandas, matplotlib, seaborn"
   ]
  },
  {
   "cell_type": "markdown",
   "metadata": {},
   "source": [
    "## Supply Curve Calculation"
   ]
  },
  {
   "cell_type": "code",
   "execution_count": 4,
   "metadata": {},
   "outputs": [],
   "source": [
    "COIN_SYMBOL = 'XLM'"
   ]
  },
  {
   "cell_type": "code",
   "execution_count": 5,
   "metadata": {},
   "outputs": [],
   "source": [
    "def datetime_xlm_supply_curve(num_weeks):\n",
    "    supply = [\n",
    "        # Total distribution,\n",
    "    ]\n",
    "    start_date = datetime.datetime(2015, 9, 30)\n",
    "    y = 2 * 1e9\n",
    "    weekly_inflation = 0.01 / 52\n",
    "    weekly_distribution = (98 * 1e9) / (52 * 13)\n",
    "    supply.append([y])\n",
    "    for week in range(num_weeks):\n",
    "        y += y * weekly_inflation\n",
    "        if week < (13 * 52):\n",
    "            y += weekly_distribution\n",
    "        supply.append([y])\n",
    "    \n",
    "    df = pd.DataFrame(\n",
    "        supply, columns=['total_supply']\n",
    "    )\n",
    "    df['total_supply_pct'] = (\n",
    "        df['total_supply'] / df['total_supply'].values[-1]\n",
    "        * 100\n",
    "    )\n",
    "    df['date'] = pd.date_range(\n",
    "        start=start_date,\n",
    "        freq='W',\n",
    "        periods=len(df)\n",
    "    )\n",
    "    return df"
   ]
  },
  {
   "cell_type": "code",
   "execution_count": 6,
   "metadata": {},
   "outputs": [
    {
     "data": {
      "text/html": [
       "<div>\n",
       "<style scoped>\n",
       "    .dataframe tbody tr th:only-of-type {\n",
       "        vertical-align: middle;\n",
       "    }\n",
       "\n",
       "    .dataframe tbody tr th {\n",
       "        vertical-align: top;\n",
       "    }\n",
       "\n",
       "    .dataframe thead th {\n",
       "        text-align: right;\n",
       "    }\n",
       "</style>\n",
       "<table border=\"1\" class=\"dataframe\">\n",
       "  <thead>\n",
       "    <tr style=\"text-align: right;\">\n",
       "      <th></th>\n",
       "      <th>total_supply</th>\n",
       "      <th>total_supply_pct</th>\n",
       "      <th>date</th>\n",
       "    </tr>\n",
       "  </thead>\n",
       "  <tbody>\n",
       "    <tr>\n",
       "      <th>0</th>\n",
       "      <td>2.000000e+09</td>\n",
       "      <td>1.691231</td>\n",
       "      <td>2015-10-04</td>\n",
       "    </tr>\n",
       "    <tr>\n",
       "      <th>1</th>\n",
       "      <td>2.145355e+09</td>\n",
       "      <td>1.814146</td>\n",
       "      <td>2015-10-11</td>\n",
       "    </tr>\n",
       "    <tr>\n",
       "      <th>2</th>\n",
       "      <td>2.290738e+09</td>\n",
       "      <td>1.937084</td>\n",
       "      <td>2015-10-18</td>\n",
       "    </tr>\n",
       "    <tr>\n",
       "      <th>3</th>\n",
       "      <td>2.436149e+09</td>\n",
       "      <td>2.060046</td>\n",
       "      <td>2015-10-25</td>\n",
       "    </tr>\n",
       "    <tr>\n",
       "      <th>4</th>\n",
       "      <td>2.581588e+09</td>\n",
       "      <td>2.183031</td>\n",
       "      <td>2015-11-01</td>\n",
       "    </tr>\n",
       "  </tbody>\n",
       "</table>\n",
       "</div>"
      ],
      "text/plain": [
       "   total_supply  total_supply_pct       date\n",
       "0  2.000000e+09          1.691231 2015-10-04\n",
       "1  2.145355e+09          1.814146 2015-10-11\n",
       "2  2.290738e+09          1.937084 2015-10-18\n",
       "3  2.436149e+09          2.060046 2015-10-25\n",
       "4  2.581588e+09          2.183031 2015-11-01"
      ]
     },
     "metadata": {},
     "output_type": "display_data"
    },
    {
     "data": {
      "text/html": [
       "<div>\n",
       "<style scoped>\n",
       "    .dataframe tbody tr th:only-of-type {\n",
       "        vertical-align: middle;\n",
       "    }\n",
       "\n",
       "    .dataframe tbody tr th {\n",
       "        vertical-align: top;\n",
       "    }\n",
       "\n",
       "    .dataframe thead th {\n",
       "        text-align: right;\n",
       "    }\n",
       "</style>\n",
       "<table border=\"1\" class=\"dataframe\">\n",
       "  <thead>\n",
       "    <tr style=\"text-align: right;\">\n",
       "      <th></th>\n",
       "      <th>total_supply</th>\n",
       "      <th>total_supply_pct</th>\n",
       "      <th>date</th>\n",
       "    </tr>\n",
       "  </thead>\n",
       "  <tbody>\n",
       "    <tr>\n",
       "      <th>1196</th>\n",
       "      <td>1.181661e+11</td>\n",
       "      <td>99.923114</td>\n",
       "      <td>2038-09-05</td>\n",
       "    </tr>\n",
       "    <tr>\n",
       "      <th>1197</th>\n",
       "      <td>1.181888e+11</td>\n",
       "      <td>99.942330</td>\n",
       "      <td>2038-09-12</td>\n",
       "    </tr>\n",
       "    <tr>\n",
       "      <th>1198</th>\n",
       "      <td>1.182116e+11</td>\n",
       "      <td>99.961550</td>\n",
       "      <td>2038-09-19</td>\n",
       "    </tr>\n",
       "    <tr>\n",
       "      <th>1199</th>\n",
       "      <td>1.182343e+11</td>\n",
       "      <td>99.980773</td>\n",
       "      <td>2038-09-26</td>\n",
       "    </tr>\n",
       "    <tr>\n",
       "      <th>1200</th>\n",
       "      <td>1.182570e+11</td>\n",
       "      <td>100.000000</td>\n",
       "      <td>2038-10-03</td>\n",
       "    </tr>\n",
       "  </tbody>\n",
       "</table>\n",
       "</div>"
      ],
      "text/plain": [
       "      total_supply  total_supply_pct       date\n",
       "1196  1.181661e+11         99.923114 2038-09-05\n",
       "1197  1.181888e+11         99.942330 2038-09-12\n",
       "1198  1.182116e+11         99.961550 2038-09-19\n",
       "1199  1.182343e+11         99.980773 2038-09-26\n",
       "1200  1.182570e+11        100.000000 2038-10-03"
      ]
     },
     "metadata": {},
     "output_type": "display_data"
    }
   ],
   "source": [
    "supply = datetime_xlm_supply_curve(num_weeks=1200)\n",
    "\n",
    "display(supply.head())\n",
    "display(supply.tail())"
   ]
  },
  {
   "cell_type": "code",
   "execution_count": 7,
   "metadata": {},
   "outputs": [
    {
     "data": {
      "image/png": "[encoded data removed]",
      "text/plain": [
       "<Figure size 432x288 with 1 Axes>"
      ]
     },
     "metadata": {
      "image/png": {
       "height": 278,
       "width": 387
      }
     },
     "output_type": "display_data"
    }
   ],
   "source": [
    "cmb.plot_supply_curve(\n",
    "    supply,\n",
    "    'XLM',\n",
    "    fmt='--',\n",
    "    plot_pct=True,\n",
    "    out_name='XML_short',\n",
    ");"
   ]
  },
  {
   "cell_type": "code",
   "execution_count": 8,
   "metadata": {},
   "outputs": [
    {
     "data": {
      "text/html": [
       "<div>\n",
       "<style scoped>\n",
       "    .dataframe tbody tr th:only-of-type {\n",
       "        vertical-align: middle;\n",
       "    }\n",
       "\n",
       "    .dataframe tbody tr th {\n",
       "        vertical-align: top;\n",
       "    }\n",
       "\n",
       "    .dataframe thead th {\n",
       "        text-align: right;\n",
       "    }\n",
       "</style>\n",
       "<table border=\"1\" class=\"dataframe\">\n",
       "  <thead>\n",
       "    <tr style=\"text-align: right;\">\n",
       "      <th></th>\n",
       "      <th>total_supply</th>\n",
       "      <th>total_supply_pct</th>\n",
       "      <th>date</th>\n",
       "    </tr>\n",
       "  </thead>\n",
       "  <tbody>\n",
       "    <tr>\n",
       "      <th>0</th>\n",
       "      <td>2.000000e+09</td>\n",
       "      <td>0.628240</td>\n",
       "      <td>2015-10-04</td>\n",
       "    </tr>\n",
       "    <tr>\n",
       "      <th>1</th>\n",
       "      <td>2.145355e+09</td>\n",
       "      <td>0.673899</td>\n",
       "      <td>2015-10-11</td>\n",
       "    </tr>\n",
       "    <tr>\n",
       "      <th>2</th>\n",
       "      <td>2.290738e+09</td>\n",
       "      <td>0.719567</td>\n",
       "      <td>2015-10-18</td>\n",
       "    </tr>\n",
       "    <tr>\n",
       "      <th>3</th>\n",
       "      <td>2.436149e+09</td>\n",
       "      <td>0.765244</td>\n",
       "      <td>2015-10-25</td>\n",
       "    </tr>\n",
       "    <tr>\n",
       "      <th>4</th>\n",
       "      <td>2.581588e+09</td>\n",
       "      <td>0.810929</td>\n",
       "      <td>2015-11-01</td>\n",
       "    </tr>\n",
       "  </tbody>\n",
       "</table>\n",
       "</div>"
      ],
      "text/plain": [
       "   total_supply  total_supply_pct       date\n",
       "0  2.000000e+09          0.628240 2015-10-04\n",
       "1  2.145355e+09          0.673899 2015-10-11\n",
       "2  2.290738e+09          0.719567 2015-10-18\n",
       "3  2.436149e+09          0.765244 2015-10-25\n",
       "4  2.581588e+09          0.810929 2015-11-01"
      ]
     },
     "metadata": {},
     "output_type": "display_data"
    },
    {
     "data": {
      "text/html": [
       "<div>\n",
       "<style scoped>\n",
       "    .dataframe tbody tr th:only-of-type {\n",
       "        vertical-align: middle;\n",
       "    }\n",
       "\n",
       "    .dataframe tbody tr th {\n",
       "        vertical-align: top;\n",
       "    }\n",
       "\n",
       "    .dataframe thead th {\n",
       "        text-align: right;\n",
       "    }\n",
       "</style>\n",
       "<table border=\"1\" class=\"dataframe\">\n",
       "  <thead>\n",
       "    <tr style=\"text-align: right;\">\n",
       "      <th></th>\n",
       "      <th>total_supply</th>\n",
       "      <th>total_supply_pct</th>\n",
       "      <th>date</th>\n",
       "    </tr>\n",
       "  </thead>\n",
       "  <tbody>\n",
       "    <tr>\n",
       "      <th>6346</th>\n",
       "      <td>3.181047e+11</td>\n",
       "      <td>99.923114</td>\n",
       "      <td>2137-05-19</td>\n",
       "    </tr>\n",
       "    <tr>\n",
       "      <th>6347</th>\n",
       "      <td>3.181659e+11</td>\n",
       "      <td>99.942330</td>\n",
       "      <td>2137-05-26</td>\n",
       "    </tr>\n",
       "    <tr>\n",
       "      <th>6348</th>\n",
       "      <td>3.182271e+11</td>\n",
       "      <td>99.961550</td>\n",
       "      <td>2137-06-02</td>\n",
       "    </tr>\n",
       "    <tr>\n",
       "      <th>6349</th>\n",
       "      <td>3.182883e+11</td>\n",
       "      <td>99.980773</td>\n",
       "      <td>2137-06-09</td>\n",
       "    </tr>\n",
       "    <tr>\n",
       "      <th>6350</th>\n",
       "      <td>3.183495e+11</td>\n",
       "      <td>100.000000</td>\n",
       "      <td>2137-06-16</td>\n",
       "    </tr>\n",
       "  </tbody>\n",
       "</table>\n",
       "</div>"
      ],
      "text/plain": [
       "      total_supply  total_supply_pct       date\n",
       "6346  3.181047e+11         99.923114 2137-05-19\n",
       "6347  3.181659e+11         99.942330 2137-05-26\n",
       "6348  3.182271e+11         99.961550 2137-06-02\n",
       "6349  3.182883e+11         99.980773 2137-06-09\n",
       "6350  3.183495e+11        100.000000 2137-06-16"
      ]
     },
     "metadata": {},
     "output_type": "display_data"
    }
   ],
   "source": [
    "supply = datetime_xlm_supply_curve(num_weeks=6350)\n",
    "display(supply.head())\n",
    "display(supply.tail())"
   ]
  },
  {
   "cell_type": "code",
   "execution_count": 9,
   "metadata": {},
   "outputs": [
    {
     "data": {
      "image/png": "[encoded data removed]",
      "text/plain": [
       "<Figure size 432x288 with 1 Axes>"
      ]
     },
     "metadata": {
      "image/png": {
       "height": 278,
       "width": 387
      }
     },
     "output_type": "display_data"
    }
   ],
   "source": [
    "cmb.plot_supply_curve(\n",
    "    supply,\n",
    "    'XLM',\n",
    "    fmt='--',\n",
    "    plot_pct=True,\n",
    "    out_name='XML_long_pct',\n",
    ");"
   ]
  },
  {
   "cell_type": "code",
   "execution_count": 10,
   "metadata": {},
   "outputs": [
    {
     "data": {
      "image/png": "[encoded data removed]",
      "text/plain": [
       "<Figure size 432x288 with 1 Axes>"
      ]
     },
     "metadata": {
      "image/png": {
       "height": 278,
       "width": 375
      }
     },
     "output_type": "display_data"
    }
   ],
   "source": [
    "cmb.plot_supply_curve(\n",
    "    supply,\n",
    "    'XLM',\n",
    "    fmt='--',\n",
    "    plot_pct=False,\n",
    "    out_name='XML_long',\n",
    ");"
   ]
  },
  {
   "cell_type": "markdown",
   "metadata": {},
   "source": [
    "## Standardize Time Series"
   ]
  },
  {
   "cell_type": "code",
   "execution_count": 11,
   "metadata": {},
   "outputs": [
    {
     "name": "stdout",
     "output_type": "stream",
     "text": [
      "Wrote 6351 lines to file ../output-data/XLM_weekly.csv\n"
     ]
    },
    {
     "data": {
      "text/html": [
       "<div>\n",
       "<style scoped>\n",
       "    .dataframe tbody tr th:only-of-type {\n",
       "        vertical-align: middle;\n",
       "    }\n",
       "\n",
       "    .dataframe tbody tr th {\n",
       "        vertical-align: top;\n",
       "    }\n",
       "\n",
       "    .dataframe thead th {\n",
       "        text-align: right;\n",
       "    }\n",
       "</style>\n",
       "<table border=\"1\" class=\"dataframe\">\n",
       "  <thead>\n",
       "    <tr style=\"text-align: right;\">\n",
       "      <th></th>\n",
       "      <th>coin</th>\n",
       "      <th>total_supply</th>\n",
       "      <th>total_supply_pct</th>\n",
       "      <th>date</th>\n",
       "    </tr>\n",
       "  </thead>\n",
       "  <tbody>\n",
       "    <tr>\n",
       "      <th>0</th>\n",
       "      <td>XLM</td>\n",
       "      <td>2.000000e+09</td>\n",
       "      <td>0.628240</td>\n",
       "      <td>2015-10-01</td>\n",
       "    </tr>\n",
       "    <tr>\n",
       "      <th>1</th>\n",
       "      <td>XLM</td>\n",
       "      <td>2.145355e+09</td>\n",
       "      <td>0.673899</td>\n",
       "      <td>2015-10-01</td>\n",
       "    </tr>\n",
       "    <tr>\n",
       "      <th>2</th>\n",
       "      <td>XLM</td>\n",
       "      <td>2.290738e+09</td>\n",
       "      <td>0.719567</td>\n",
       "      <td>2015-10-01</td>\n",
       "    </tr>\n",
       "    <tr>\n",
       "      <th>3</th>\n",
       "      <td>XLM</td>\n",
       "      <td>2.436149e+09</td>\n",
       "      <td>0.765244</td>\n",
       "      <td>2015-10-01</td>\n",
       "    </tr>\n",
       "    <tr>\n",
       "      <th>4</th>\n",
       "      <td>XLM</td>\n",
       "      <td>2.581588e+09</td>\n",
       "      <td>0.810929</td>\n",
       "      <td>2015-11-01</td>\n",
       "    </tr>\n",
       "  </tbody>\n",
       "</table>\n",
       "</div>"
      ],
      "text/plain": [
       "  coin  total_supply  total_supply_pct        date\n",
       "0  XLM  2.000000e+09          0.628240  2015-10-01\n",
       "1  XLM  2.145355e+09          0.673899  2015-10-01\n",
       "2  XLM  2.290738e+09          0.719567  2015-10-01\n",
       "3  XLM  2.436149e+09          0.765244  2015-10-01\n",
       "4  XLM  2.581588e+09          0.810929  2015-11-01"
      ]
     },
     "metadata": {},
     "output_type": "display_data"
    },
    {
     "data": {
      "text/html": [
       "<div>\n",
       "<style scoped>\n",
       "    .dataframe tbody tr th:only-of-type {\n",
       "        vertical-align: middle;\n",
       "    }\n",
       "\n",
       "    .dataframe tbody tr th {\n",
       "        vertical-align: top;\n",
       "    }\n",
       "\n",
       "    .dataframe thead th {\n",
       "        text-align: right;\n",
       "    }\n",
       "</style>\n",
       "<table border=\"1\" class=\"dataframe\">\n",
       "  <thead>\n",
       "    <tr style=\"text-align: right;\">\n",
       "      <th></th>\n",
       "      <th>coin</th>\n",
       "      <th>total_supply</th>\n",
       "      <th>total_supply_pct</th>\n",
       "      <th>date</th>\n",
       "    </tr>\n",
       "  </thead>\n",
       "  <tbody>\n",
       "    <tr>\n",
       "      <th>6346</th>\n",
       "      <td>XLM</td>\n",
       "      <td>3.181047e+11</td>\n",
       "      <td>99.923114</td>\n",
       "      <td>2137-05-01</td>\n",
       "    </tr>\n",
       "    <tr>\n",
       "      <th>6347</th>\n",
       "      <td>XLM</td>\n",
       "      <td>3.181659e+11</td>\n",
       "      <td>99.942330</td>\n",
       "      <td>2137-05-01</td>\n",
       "    </tr>\n",
       "    <tr>\n",
       "      <th>6348</th>\n",
       "      <td>XLM</td>\n",
       "      <td>3.182271e+11</td>\n",
       "      <td>99.961550</td>\n",
       "      <td>2137-06-01</td>\n",
       "    </tr>\n",
       "    <tr>\n",
       "      <th>6349</th>\n",
       "      <td>XLM</td>\n",
       "      <td>3.182883e+11</td>\n",
       "      <td>99.980773</td>\n",
       "      <td>2137-06-01</td>\n",
       "    </tr>\n",
       "    <tr>\n",
       "      <th>6350</th>\n",
       "      <td>XLM</td>\n",
       "      <td>3.183495e+11</td>\n",
       "      <td>100.000000</td>\n",
       "      <td>2137-06-01</td>\n",
       "    </tr>\n",
       "  </tbody>\n",
       "</table>\n",
       "</div>"
      ],
      "text/plain": [
       "     coin  total_supply  total_supply_pct        date\n",
       "6346  XLM  3.181047e+11         99.923114  2137-05-01\n",
       "6347  XLM  3.181659e+11         99.942330  2137-05-01\n",
       "6348  XLM  3.182271e+11         99.961550  2137-06-01\n",
       "6349  XLM  3.182883e+11         99.980773  2137-06-01\n",
       "6350  XLM  3.183495e+11        100.000000  2137-06-01"
      ]
     },
     "metadata": {},
     "output_type": "display_data"
    }
   ],
   "source": [
    "weekly_supply = cmb.transform_supply(supply, COIN_SYMBOL, freq='weekly')\n",
    "\n",
    "display(weekly_supply.head())\n",
    "display(weekly_supply.tail())"
   ]
  },
  {
   "cell_type": "code",
   "execution_count": 12,
   "metadata": {},
   "outputs": [
    {
     "name": "stdout",
     "output_type": "stream",
     "text": [
      "Wrote 1461 lines to file ../output-data/XLM_monthly.csv\n"
     ]
    },
    {
     "data": {
      "text/html": [
       "<div>\n",
       "<style scoped>\n",
       "    .dataframe tbody tr th:only-of-type {\n",
       "        vertical-align: middle;\n",
       "    }\n",
       "\n",
       "    .dataframe tbody tr th {\n",
       "        vertical-align: top;\n",
       "    }\n",
       "\n",
       "    .dataframe thead th {\n",
       "        text-align: right;\n",
       "    }\n",
       "</style>\n",
       "<table border=\"1\" class=\"dataframe\">\n",
       "  <thead>\n",
       "    <tr style=\"text-align: right;\">\n",
       "      <th></th>\n",
       "      <th>coin</th>\n",
       "      <th>total_supply</th>\n",
       "      <th>total_supply_pct</th>\n",
       "      <th>date</th>\n",
       "    </tr>\n",
       "  </thead>\n",
       "  <tbody>\n",
       "    <tr>\n",
       "      <th>0</th>\n",
       "      <td>XLM</td>\n",
       "      <td>2.000000e+09</td>\n",
       "      <td>0.628240</td>\n",
       "      <td>2015-10-01</td>\n",
       "    </tr>\n",
       "    <tr>\n",
       "      <th>1</th>\n",
       "      <td>XLM</td>\n",
       "      <td>2.581588e+09</td>\n",
       "      <td>0.810929</td>\n",
       "      <td>2015-11-01</td>\n",
       "    </tr>\n",
       "    <tr>\n",
       "      <th>2</th>\n",
       "      <td>XLM</td>\n",
       "      <td>3.309202e+09</td>\n",
       "      <td>1.039487</td>\n",
       "      <td>2015-12-01</td>\n",
       "    </tr>\n",
       "    <tr>\n",
       "      <th>3</th>\n",
       "      <td>XLM</td>\n",
       "      <td>3.891797e+09</td>\n",
       "      <td>1.222492</td>\n",
       "      <td>2016-01-01</td>\n",
       "    </tr>\n",
       "    <tr>\n",
       "      <th>4</th>\n",
       "      <td>XLM</td>\n",
       "      <td>4.620672e+09</td>\n",
       "      <td>1.451446</td>\n",
       "      <td>2016-02-01</td>\n",
       "    </tr>\n",
       "  </tbody>\n",
       "</table>\n",
       "</div>"
      ],
      "text/plain": [
       "  coin  total_supply  total_supply_pct        date\n",
       "0  XLM  2.000000e+09          0.628240  2015-10-01\n",
       "1  XLM  2.581588e+09          0.810929  2015-11-01\n",
       "2  XLM  3.309202e+09          1.039487  2015-12-01\n",
       "3  XLM  3.891797e+09          1.222492  2016-01-01\n",
       "4  XLM  4.620672e+09          1.451446  2016-02-01"
      ]
     },
     "metadata": {},
     "output_type": "display_data"
    },
    {
     "data": {
      "text/html": [
       "<div>\n",
       "<style scoped>\n",
       "    .dataframe tbody tr th:only-of-type {\n",
       "        vertical-align: middle;\n",
       "    }\n",
       "\n",
       "    .dataframe tbody tr th {\n",
       "        vertical-align: top;\n",
       "    }\n",
       "\n",
       "    .dataframe thead th {\n",
       "        text-align: right;\n",
       "    }\n",
       "</style>\n",
       "<table border=\"1\" class=\"dataframe\">\n",
       "  <thead>\n",
       "    <tr style=\"text-align: right;\">\n",
       "      <th></th>\n",
       "      <th>coin</th>\n",
       "      <th>total_supply</th>\n",
       "      <th>total_supply_pct</th>\n",
       "      <th>date</th>\n",
       "    </tr>\n",
       "  </thead>\n",
       "  <tbody>\n",
       "    <tr>\n",
       "      <th>1456</th>\n",
       "      <td>XLM</td>\n",
       "      <td>3.171885e+11</td>\n",
       "      <td>99.635317</td>\n",
       "      <td>2137-02-01</td>\n",
       "    </tr>\n",
       "    <tr>\n",
       "      <th>1457</th>\n",
       "      <td>XLM</td>\n",
       "      <td>3.174326e+11</td>\n",
       "      <td>99.711982</td>\n",
       "      <td>2137-03-01</td>\n",
       "    </tr>\n",
       "    <tr>\n",
       "      <th>1458</th>\n",
       "      <td>XLM</td>\n",
       "      <td>3.177379e+11</td>\n",
       "      <td>99.807896</td>\n",
       "      <td>2137-04-01</td>\n",
       "    </tr>\n",
       "    <tr>\n",
       "      <th>1459</th>\n",
       "      <td>XLM</td>\n",
       "      <td>3.179824e+11</td>\n",
       "      <td>99.884693</td>\n",
       "      <td>2137-05-01</td>\n",
       "    </tr>\n",
       "    <tr>\n",
       "      <th>1460</th>\n",
       "      <td>XLM</td>\n",
       "      <td>3.182271e+11</td>\n",
       "      <td>99.961550</td>\n",
       "      <td>2137-06-01</td>\n",
       "    </tr>\n",
       "  </tbody>\n",
       "</table>\n",
       "</div>"
      ],
      "text/plain": [
       "     coin  total_supply  total_supply_pct        date\n",
       "1456  XLM  3.171885e+11         99.635317  2137-02-01\n",
       "1457  XLM  3.174326e+11         99.711982  2137-03-01\n",
       "1458  XLM  3.177379e+11         99.807896  2137-04-01\n",
       "1459  XLM  3.179824e+11         99.884693  2137-05-01\n",
       "1460  XLM  3.182271e+11         99.961550  2137-06-01"
      ]
     },
     "metadata": {},
     "output_type": "display_data"
    }
   ],
   "source": [
    "monthly_supply = cmb.transform_supply(supply, COIN_SYMBOL, freq='monthly')\n",
    "\n",
    "display(monthly_supply.head())\n",
    "display(monthly_supply.tail())"
   ]
  },
  {
   "cell_type": "code",
   "execution_count": 13,
   "metadata": {},
   "outputs": [
    {
     "name": "stdout",
     "output_type": "stream",
     "text": [
      "Wrote 123 lines to file ../output-data/XLM_yearly.csv\n"
     ]
    },
    {
     "data": {
      "text/html": [
       "<div>\n",
       "<style scoped>\n",
       "    .dataframe tbody tr th:only-of-type {\n",
       "        vertical-align: middle;\n",
       "    }\n",
       "\n",
       "    .dataframe tbody tr th {\n",
       "        vertical-align: top;\n",
       "    }\n",
       "\n",
       "    .dataframe thead th {\n",
       "        text-align: right;\n",
       "    }\n",
       "</style>\n",
       "<table border=\"1\" class=\"dataframe\">\n",
       "  <thead>\n",
       "    <tr style=\"text-align: right;\">\n",
       "      <th></th>\n",
       "      <th>coin</th>\n",
       "      <th>total_supply</th>\n",
       "      <th>total_supply_pct</th>\n",
       "      <th>date</th>\n",
       "    </tr>\n",
       "  </thead>\n",
       "  <tbody>\n",
       "    <tr>\n",
       "      <th>0</th>\n",
       "      <td>XLM</td>\n",
       "      <td>2.000000e+09</td>\n",
       "      <td>0.628240</td>\n",
       "      <td>2015-10-01</td>\n",
       "    </tr>\n",
       "    <tr>\n",
       "      <th>1</th>\n",
       "      <td>XLM</td>\n",
       "      <td>3.891797e+09</td>\n",
       "      <td>1.222492</td>\n",
       "      <td>2016-01-01</td>\n",
       "    </tr>\n",
       "    <tr>\n",
       "      <th>2</th>\n",
       "      <td>XLM</td>\n",
       "      <td>1.150645e+10</td>\n",
       "      <td>3.614409</td>\n",
       "      <td>2017-01-01</td>\n",
       "    </tr>\n",
       "    <tr>\n",
       "      <th>3</th>\n",
       "      <td>XLM</td>\n",
       "      <td>1.934630e+10</td>\n",
       "      <td>6.077061</td>\n",
       "      <td>2018-01-01</td>\n",
       "    </tr>\n",
       "    <tr>\n",
       "      <th>4</th>\n",
       "      <td>XLM</td>\n",
       "      <td>2.711626e+10</td>\n",
       "      <td>8.517763</td>\n",
       "      <td>2019-01-01</td>\n",
       "    </tr>\n",
       "  </tbody>\n",
       "</table>\n",
       "</div>"
      ],
      "text/plain": [
       "  coin  total_supply  total_supply_pct        date\n",
       "0  XLM  2.000000e+09          0.628240  2015-10-01\n",
       "1  XLM  3.891797e+09          1.222492  2016-01-01\n",
       "2  XLM  1.150645e+10          3.614409  2017-01-01\n",
       "3  XLM  1.934630e+10          6.077061  2018-01-01\n",
       "4  XLM  2.711626e+10          8.517763  2019-01-01"
      ]
     },
     "metadata": {},
     "output_type": "display_data"
    },
    {
     "data": {
      "text/html": [
       "<div>\n",
       "<style scoped>\n",
       "    .dataframe tbody tr th:only-of-type {\n",
       "        vertical-align: middle;\n",
       "    }\n",
       "\n",
       "    .dataframe tbody tr th {\n",
       "        vertical-align: top;\n",
       "    }\n",
       "\n",
       "    .dataframe thead th {\n",
       "        text-align: right;\n",
       "    }\n",
       "</style>\n",
       "<table border=\"1\" class=\"dataframe\">\n",
       "  <thead>\n",
       "    <tr style=\"text-align: right;\">\n",
       "      <th></th>\n",
       "      <th>coin</th>\n",
       "      <th>total_supply</th>\n",
       "      <th>total_supply_pct</th>\n",
       "      <th>date</th>\n",
       "    </tr>\n",
       "  </thead>\n",
       "  <tbody>\n",
       "    <tr>\n",
       "      <th>118</th>\n",
       "      <td>XLM</td>\n",
       "      <td>3.044597e+11</td>\n",
       "      <td>95.636935</td>\n",
       "      <td>2133-01-01</td>\n",
       "    </tr>\n",
       "    <tr>\n",
       "      <th>119</th>\n",
       "      <td>XLM</td>\n",
       "      <td>3.075193e+11</td>\n",
       "      <td>96.598009</td>\n",
       "      <td>2134-01-01</td>\n",
       "    </tr>\n",
       "    <tr>\n",
       "      <th>120</th>\n",
       "      <td>XLM</td>\n",
       "      <td>3.106096e+11</td>\n",
       "      <td>97.568741</td>\n",
       "      <td>2135-01-01</td>\n",
       "    </tr>\n",
       "    <tr>\n",
       "      <th>121</th>\n",
       "      <td>XLM</td>\n",
       "      <td>3.137310e+11</td>\n",
       "      <td>98.549229</td>\n",
       "      <td>2136-01-01</td>\n",
       "    </tr>\n",
       "    <tr>\n",
       "      <th>122</th>\n",
       "      <td>XLM</td>\n",
       "      <td>3.169447e+11</td>\n",
       "      <td>99.558711</td>\n",
       "      <td>2137-01-01</td>\n",
       "    </tr>\n",
       "  </tbody>\n",
       "</table>\n",
       "</div>"
      ],
      "text/plain": [
       "    coin  total_supply  total_supply_pct        date\n",
       "118  XLM  3.044597e+11         95.636935  2133-01-01\n",
       "119  XLM  3.075193e+11         96.598009  2134-01-01\n",
       "120  XLM  3.106096e+11         97.568741  2135-01-01\n",
       "121  XLM  3.137310e+11         98.549229  2136-01-01\n",
       "122  XLM  3.169447e+11         99.558711  2137-01-01"
      ]
     },
     "metadata": {},
     "output_type": "display_data"
    }
   ],
   "source": [
    "yearly_supply = cmb.transform_supply(supply, COIN_SYMBOL, freq='yearly')\n",
    "\n",
    "display(yearly_supply.head())\n",
    "display(yearly_supply.tail())"
   ]
  }
 ],
 "metadata": {
  "kernelspec": {
   "display_name": "Python [default]",
   "language": "python",
   "name": "python3"
  },
  "language_info": {
   "codemirror_mode": {
    "name": "ipython",
    "version": 3
   },
   "file_extension": ".py",
   "mimetype": "text/x-python",
   "name": "python",
   "nbconvert_exporter": "python",
   "pygments_lexer": "ipython3",
   "version": "3.6.5"
  },
  "toc": {
   "base_numbering": 1,
   "nav_menu": {},
   "number_sections": true,
   "sideBar": true,
   "skip_h1_title": false,
   "title_cell": "Table of Contents",
   "title_sidebar": "Contents",
   "toc_cell": false,
   "toc_position": {},
   "toc_section_display": true,
   "toc_window_display": false
  }
 },
 "nbformat": 4,
 "nbformat_minor": 2
}
