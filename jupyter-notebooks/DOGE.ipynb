{
 "cells": [
  {
   "cell_type": "code",
   "execution_count": 1,
   "metadata": {},
   "outputs": [],
   "source": [
    "# Load project functions\n",
    "import crypto_monetary_base as cmb"
   ]
  },
  {
   "cell_type": "code",
   "execution_count": 2,
   "metadata": {},
   "outputs": [],
   "source": [
    "import pandas as pd\n",
    "import datetime\n",
    "from tqdm import tqdm_notebook\n",
    "\n",
    "import matplotlib.pyplot as plt\n",
    "import matplotlib as mpl\n",
    "import seaborn as sns\n",
    "%matplotlib inline\n",
    "%config InlineBackend.figure_format='retina'\n",
    "sns.set()\n",
    "plt.rcParams['figure.figsize'] = (6, 4)\n",
    "plt.rcParams['axes.labelpad'] = 10\n",
    "mpl.rc('text', usetex=True)\n",
    "plt.style.use('ggplot')\n",
    "\n",
    "from IPython.display import display"
   ]
  },
  {
   "cell_type": "code",
   "execution_count": 3,
   "metadata": {},
   "outputs": [
    {
     "data": {
      "application/json": {
       "Software versions": [
        {
         "module": "Python",
         "version": "3.6.5 64bit [GCC 4.2.1 Compatible Clang 4.0.1 (tags/RELEASE_401/final)]"
        },
        {
         "module": "IPython",
         "version": "6.4.0"
        },
        {
         "module": "OS",
         "version": "Darwin 16.7.0 x86_64 i386 64bit"
        },
        {
         "module": "pandas",
         "version": "0.23.0"
        },
        {
         "module": "matplotlib",
         "version": "2.2.2"
        },
        {
         "module": "seaborn",
         "version": "0.9.0"
        }
       ]
      },
      "text/html": [
       "<table><tr><th>Software</th><th>Version</th></tr><tr><td>Python</td><td>3.6.5 64bit [GCC 4.2.1 Compatible Clang 4.0.1 (tags/RELEASE_401/final)]</td></tr><tr><td>IPython</td><td>6.4.0</td></tr><tr><td>OS</td><td>Darwin 16.7.0 x86_64 i386 64bit</td></tr><tr><td>pandas</td><td>0.23.0</td></tr><tr><td>matplotlib</td><td>2.2.2</td></tr><tr><td>seaborn</td><td>0.9.0</td></tr><tr><td colspan='2'>Wed Dec 26 11:22:11 2018 EST</td></tr></table>"
      ],
      "text/latex": [
       "\\begin{tabular}{|l|l|}\\hline\n",
       "{\\bf Software} & {\\bf Version} \\\\ \\hline\\hline\n",
       "Python & 3.6.5 64bit [GCC 4.2.1 Compatible Clang 4.0.1 (tags/RELEASE\\_401/final)] \\\\ \\hline\n",
       "IPython & 6.4.0 \\\\ \\hline\n",
       "OS & Darwin 16.7.0 x86\\_64 i386 64bit \\\\ \\hline\n",
       "pandas & 0.23.0 \\\\ \\hline\n",
       "matplotlib & 2.2.2 \\\\ \\hline\n",
       "seaborn & 0.9.0 \\\\ \\hline\n",
       "\\hline \\multicolumn{2}{|l|}{Wed Dec 26 11:22:11 2018 EST} \\\\ \\hline\n",
       "\\end{tabular}\n"
      ],
      "text/plain": [
       "Software versions\n",
       "Python 3.6.5 64bit [GCC 4.2.1 Compatible Clang 4.0.1 (tags/RELEASE_401/final)]\n",
       "IPython 6.4.0\n",
       "OS Darwin 16.7.0 x86_64 i386 64bit\n",
       "pandas 0.23.0\n",
       "matplotlib 2.2.2\n",
       "seaborn 0.9.0\n",
       "Wed Dec 26 11:22:11 2018 EST"
      ]
     },
     "execution_count": 3,
     "metadata": {},
     "output_type": "execute_result"
    }
   ],
   "source": [
    "%load_ext version_information\n",
    "%version_information pandas, matplotlib, seaborn"
   ]
  },
  {
   "cell_type": "markdown",
   "metadata": {},
   "source": [
    "## Supply Curve Calculation"
   ]
  },
  {
   "cell_type": "code",
   "execution_count": 4,
   "metadata": {},
   "outputs": [],
   "source": [
    "COIN_SYMBOL = 'DOGE'"
   ]
  },
  {
   "cell_type": "code",
   "execution_count": 5,
   "metadata": {},
   "outputs": [],
   "source": [
    "def doge_block_supply_curve(max_size=None):\n",
    "    out = [\n",
    "        # Block num,\n",
    "        # Total supply,\n",
    "    ]\n",
    "    \n",
    "    y = 0\n",
    "    max_blocks = 52560000    # Breakpoint 100 years from now\n",
    "    \n",
    "    # Mex size to prevent memory overflows\n",
    "    if max_size is not None:\n",
    "        block_freq = int(max_blocks / _max_size)\n",
    "    else:\n",
    "        block_freq = 1\n",
    "        \n",
    "    for block in tqdm_notebook(range(max_blocks)):\n",
    "        if block < 100000:\n",
    "            block_reward = 500000\n",
    "        elif block < 200000:\n",
    "            block_reward = 250000\n",
    "        elif block < 300000:\n",
    "            block_reward = 125000\n",
    "        elif block < 400000:\n",
    "            block_reward = 62500\n",
    "        elif block < 500000:\n",
    "            block_reward = 31250\n",
    "        elif block < 600000:\n",
    "            block_reward = 15625\n",
    "        else:\n",
    "            block_reward = 10000\n",
    "\n",
    "        y += block_reward\n",
    "        if block % block_freq == 0:\n",
    "            out.append([block, y])\n",
    "\n",
    "    return out, block_freq"
   ]
  },
  {
   "cell_type": "code",
   "execution_count": 6,
   "metadata": {},
   "outputs": [
    {
     "data": {
      "application/vnd.jupyter.widget-view+json": {
       "model_id": "0e983f171ed2405eb898a0c33394a186",
       "version_major": 2,
       "version_minor": 0
      },
      "text/plain": [
       "HBox(children=(IntProgress(value=0, max=52560000), HTML(value='')))"
      ]
     },
     "metadata": {},
     "output_type": "display_data"
    },
    {
     "name": "stdout",
     "output_type": "stream",
     "text": [
      "\n"
     ]
    }
   ],
   "source": [
    "start_date = datetime.date(2013, 12, 6)\n",
    "block_time = datetime.timedelta(seconds=60)\n",
    "\n",
    "_max_size = 10000\n",
    "block_supply, _block_freq = doge_block_supply_curve(_max_size)\n",
    "\n",
    "supply = cmb.datetime_supply_curve(\n",
    "    start_date=start_date,\n",
    "    block_time=block_time*_block_freq,\n",
    "    block_supply=block_supply,\n",
    ")"
   ]
  },
  {
   "cell_type": "code",
   "execution_count": 7,
   "metadata": {
    "scrolled": false
   },
   "outputs": [
    {
     "data": {
      "text/html": [
       "<div>\n",
       "<style scoped>\n",
       "    .dataframe tbody tr th:only-of-type {\n",
       "        vertical-align: middle;\n",
       "    }\n",
       "\n",
       "    .dataframe tbody tr th {\n",
       "        vertical-align: top;\n",
       "    }\n",
       "\n",
       "    .dataframe thead th {\n",
       "        text-align: right;\n",
       "    }\n",
       "</style>\n",
       "<table border=\"1\" class=\"dataframe\">\n",
       "  <thead>\n",
       "    <tr style=\"text-align: right;\">\n",
       "      <th></th>\n",
       "      <th>block</th>\n",
       "      <th>total_supply</th>\n",
       "      <th>total_supply_pct</th>\n",
       "      <th>date</th>\n",
       "    </tr>\n",
       "  </thead>\n",
       "  <tbody>\n",
       "    <tr>\n",
       "      <th>0</th>\n",
       "      <td>0</td>\n",
       "      <td>500000</td>\n",
       "      <td>0.000081</td>\n",
       "      <td>2013-12-06 00:00:00</td>\n",
       "    </tr>\n",
       "    <tr>\n",
       "      <th>1</th>\n",
       "      <td>5256</td>\n",
       "      <td>2628500000</td>\n",
       "      <td>0.425334</td>\n",
       "      <td>2013-12-09 15:36:00</td>\n",
       "    </tr>\n",
       "    <tr>\n",
       "      <th>2</th>\n",
       "      <td>10512</td>\n",
       "      <td>5256500000</td>\n",
       "      <td>0.850587</td>\n",
       "      <td>2013-12-13 07:12:00</td>\n",
       "    </tr>\n",
       "    <tr>\n",
       "      <th>3</th>\n",
       "      <td>15768</td>\n",
       "      <td>7884500000</td>\n",
       "      <td>1.275840</td>\n",
       "      <td>2013-12-16 22:48:00</td>\n",
       "    </tr>\n",
       "    <tr>\n",
       "      <th>4</th>\n",
       "      <td>21024</td>\n",
       "      <td>10512500000</td>\n",
       "      <td>1.701093</td>\n",
       "      <td>2013-12-20 14:24:00</td>\n",
       "    </tr>\n",
       "  </tbody>\n",
       "</table>\n",
       "</div>"
      ],
      "text/plain": [
       "   block  total_supply  total_supply_pct                date\n",
       "0      0        500000          0.000081 2013-12-06 00:00:00\n",
       "1   5256    2628500000          0.425334 2013-12-09 15:36:00\n",
       "2  10512    5256500000          0.850587 2013-12-13 07:12:00\n",
       "3  15768    7884500000          1.275840 2013-12-16 22:48:00\n",
       "4  21024   10512500000          1.701093 2013-12-20 14:24:00"
      ]
     },
     "metadata": {},
     "output_type": "display_data"
    },
    {
     "data": {
      "text/html": [
       "<div>\n",
       "<style scoped>\n",
       "    .dataframe tbody tr th:only-of-type {\n",
       "        vertical-align: middle;\n",
       "    }\n",
       "\n",
       "    .dataframe tbody tr th {\n",
       "        vertical-align: top;\n",
       "    }\n",
       "\n",
       "    .dataframe thead th {\n",
       "        text-align: right;\n",
       "    }\n",
       "</style>\n",
       "<table border=\"1\" class=\"dataframe\">\n",
       "  <thead>\n",
       "    <tr style=\"text-align: right;\">\n",
       "      <th></th>\n",
       "      <th>block</th>\n",
       "      <th>total_supply</th>\n",
       "      <th>total_supply_pct</th>\n",
       "      <th>date</th>\n",
       "    </tr>\n",
       "  </thead>\n",
       "  <tbody>\n",
       "    <tr>\n",
       "      <th>9995</th>\n",
       "      <td>52533720</td>\n",
       "      <td>617774710000</td>\n",
       "      <td>99.965980</td>\n",
       "      <td>2113-10-24 18:00:00</td>\n",
       "    </tr>\n",
       "    <tr>\n",
       "      <th>9996</th>\n",
       "      <td>52538976</td>\n",
       "      <td>617827270000</td>\n",
       "      <td>99.974485</td>\n",
       "      <td>2113-10-28 09:36:00</td>\n",
       "    </tr>\n",
       "    <tr>\n",
       "      <th>9997</th>\n",
       "      <td>52544232</td>\n",
       "      <td>617879830000</td>\n",
       "      <td>99.982990</td>\n",
       "      <td>2113-11-01 01:12:00</td>\n",
       "    </tr>\n",
       "    <tr>\n",
       "      <th>9998</th>\n",
       "      <td>52549488</td>\n",
       "      <td>617932390000</td>\n",
       "      <td>99.991495</td>\n",
       "      <td>2113-11-04 16:48:00</td>\n",
       "    </tr>\n",
       "    <tr>\n",
       "      <th>9999</th>\n",
       "      <td>52554744</td>\n",
       "      <td>617984950000</td>\n",
       "      <td>100.000000</td>\n",
       "      <td>2113-11-08 08:24:00</td>\n",
       "    </tr>\n",
       "  </tbody>\n",
       "</table>\n",
       "</div>"
      ],
      "text/plain": [
       "         block  total_supply  total_supply_pct                date\n",
       "9995  52533720  617774710000         99.965980 2113-10-24 18:00:00\n",
       "9996  52538976  617827270000         99.974485 2113-10-28 09:36:00\n",
       "9997  52544232  617879830000         99.982990 2113-11-01 01:12:00\n",
       "9998  52549488  617932390000         99.991495 2113-11-04 16:48:00\n",
       "9999  52554744  617984950000        100.000000 2113-11-08 08:24:00"
      ]
     },
     "metadata": {},
     "output_type": "display_data"
    },
    {
     "data": {
      "image/png": "[encoded data removed]",
      "text/plain": [
       "<Figure size 432x288 with 1 Axes>"
      ]
     },
     "metadata": {
      "image/png": {
       "height": 278,
       "width": 387
      }
     },
     "output_type": "display_data"
    }
   ],
   "source": [
    "display(supply.head())\n",
    "display(supply.tail())\n",
    "\n",
    "cmb.plot_supply_curve(\n",
    "    supply,\n",
    "    'DOGE',\n",
    "    out_name='DOGE',\n",
    "    ylim=(0, 110),\n",
    ");"
   ]
  },
  {
   "cell_type": "code",
   "execution_count": 8,
   "metadata": {},
   "outputs": [
    {
     "data": {
      "image/png": "[encoded data removed]",
      "text/plain": [
       "<Figure size 432x288 with 1 Axes>"
      ]
     },
     "metadata": {
      "image/png": {
       "height": 278,
       "width": 375
      }
     },
     "output_type": "display_data"
    }
   ],
   "source": [
    "mask = supply.date < datetime.datetime(2020, 1, 1)\n",
    "\n",
    "cmb.plot_supply_curve(\n",
    "    supply[mask],\n",
    "    'DOGE',\n",
    "    plot_pct=False,\n",
    "    out_name='DOGE_zoom'\n",
    ");"
   ]
  },
  {
   "cell_type": "markdown",
   "metadata": {},
   "source": [
    "## Standardize Time Series"
   ]
  },
  {
   "cell_type": "code",
   "execution_count": 9,
   "metadata": {
    "scrolled": false
   },
   "outputs": [
    {
     "name": "stdout",
     "output_type": "stream",
     "text": [
      "Wrote 5215 lines to file ../output-data/DOGE_weekly.csv\n"
     ]
    },
    {
     "data": {
      "text/html": [
       "<div>\n",
       "<style scoped>\n",
       "    .dataframe tbody tr th:only-of-type {\n",
       "        vertical-align: middle;\n",
       "    }\n",
       "\n",
       "    .dataframe tbody tr th {\n",
       "        vertical-align: top;\n",
       "    }\n",
       "\n",
       "    .dataframe thead th {\n",
       "        text-align: right;\n",
       "    }\n",
       "</style>\n",
       "<table border=\"1\" class=\"dataframe\">\n",
       "  <thead>\n",
       "    <tr style=\"text-align: right;\">\n",
       "      <th></th>\n",
       "      <th>coin</th>\n",
       "      <th>block</th>\n",
       "      <th>total_supply</th>\n",
       "      <th>total_supply_pct</th>\n",
       "      <th>date</th>\n",
       "    </tr>\n",
       "  </thead>\n",
       "  <tbody>\n",
       "    <tr>\n",
       "      <th>0</th>\n",
       "      <td>DOGE</td>\n",
       "      <td>0</td>\n",
       "      <td>500000</td>\n",
       "      <td>0.000081</td>\n",
       "      <td>2013-12-01</td>\n",
       "    </tr>\n",
       "    <tr>\n",
       "      <th>1</th>\n",
       "      <td>DOGE</td>\n",
       "      <td>5256</td>\n",
       "      <td>2628500000</td>\n",
       "      <td>0.425334</td>\n",
       "      <td>2013-12-01</td>\n",
       "    </tr>\n",
       "    <tr>\n",
       "      <th>2</th>\n",
       "      <td>DOGE</td>\n",
       "      <td>15768</td>\n",
       "      <td>7884500000</td>\n",
       "      <td>1.275840</td>\n",
       "      <td>2013-12-01</td>\n",
       "    </tr>\n",
       "    <tr>\n",
       "      <th>3</th>\n",
       "      <td>DOGE</td>\n",
       "      <td>26280</td>\n",
       "      <td>13140500000</td>\n",
       "      <td>2.126346</td>\n",
       "      <td>2013-12-01</td>\n",
       "    </tr>\n",
       "    <tr>\n",
       "      <th>4</th>\n",
       "      <td>DOGE</td>\n",
       "      <td>36792</td>\n",
       "      <td>18396500000</td>\n",
       "      <td>2.976852</td>\n",
       "      <td>2013-12-01</td>\n",
       "    </tr>\n",
       "  </tbody>\n",
       "</table>\n",
       "</div>"
      ],
      "text/plain": [
       "   coin  block  total_supply  total_supply_pct        date\n",
       "0  DOGE      0        500000          0.000081  2013-12-01\n",
       "1  DOGE   5256    2628500000          0.425334  2013-12-01\n",
       "2  DOGE  15768    7884500000          1.275840  2013-12-01\n",
       "3  DOGE  26280   13140500000          2.126346  2013-12-01\n",
       "4  DOGE  36792   18396500000          2.976852  2013-12-01"
      ]
     },
     "metadata": {},
     "output_type": "display_data"
    },
    {
     "data": {
      "text/html": [
       "<div>\n",
       "<style scoped>\n",
       "    .dataframe tbody tr th:only-of-type {\n",
       "        vertical-align: middle;\n",
       "    }\n",
       "\n",
       "    .dataframe tbody tr th {\n",
       "        vertical-align: top;\n",
       "    }\n",
       "\n",
       "    .dataframe thead th {\n",
       "        text-align: right;\n",
       "    }\n",
       "</style>\n",
       "<table border=\"1\" class=\"dataframe\">\n",
       "  <thead>\n",
       "    <tr style=\"text-align: right;\">\n",
       "      <th></th>\n",
       "      <th>coin</th>\n",
       "      <th>block</th>\n",
       "      <th>total_supply</th>\n",
       "      <th>total_supply_pct</th>\n",
       "      <th>date</th>\n",
       "    </tr>\n",
       "  </thead>\n",
       "  <tbody>\n",
       "    <tr>\n",
       "      <th>5210</th>\n",
       "      <td>DOGE</td>\n",
       "      <td>52512696</td>\n",
       "      <td>617564470000</td>\n",
       "      <td>99.93196</td>\n",
       "      <td>2113-10-01</td>\n",
       "    </tr>\n",
       "    <tr>\n",
       "      <th>5211</th>\n",
       "      <td>DOGE</td>\n",
       "      <td>52523208</td>\n",
       "      <td>617669590000</td>\n",
       "      <td>99.94897</td>\n",
       "      <td>2113-10-01</td>\n",
       "    </tr>\n",
       "    <tr>\n",
       "      <th>5212</th>\n",
       "      <td>DOGE</td>\n",
       "      <td>52533720</td>\n",
       "      <td>617774710000</td>\n",
       "      <td>99.96598</td>\n",
       "      <td>2113-10-01</td>\n",
       "    </tr>\n",
       "    <tr>\n",
       "      <th>5213</th>\n",
       "      <td>DOGE</td>\n",
       "      <td>52544232</td>\n",
       "      <td>617879830000</td>\n",
       "      <td>99.98299</td>\n",
       "      <td>2113-11-01</td>\n",
       "    </tr>\n",
       "    <tr>\n",
       "      <th>5214</th>\n",
       "      <td>DOGE</td>\n",
       "      <td>52554744</td>\n",
       "      <td>617984950000</td>\n",
       "      <td>100.00000</td>\n",
       "      <td>2113-11-01</td>\n",
       "    </tr>\n",
       "  </tbody>\n",
       "</table>\n",
       "</div>"
      ],
      "text/plain": [
       "      coin     block  total_supply  total_supply_pct        date\n",
       "5210  DOGE  52512696  617564470000          99.93196  2113-10-01\n",
       "5211  DOGE  52523208  617669590000          99.94897  2113-10-01\n",
       "5212  DOGE  52533720  617774710000          99.96598  2113-10-01\n",
       "5213  DOGE  52544232  617879830000          99.98299  2113-11-01\n",
       "5214  DOGE  52554744  617984950000         100.00000  2113-11-01"
      ]
     },
     "metadata": {},
     "output_type": "display_data"
    }
   ],
   "source": [
    "weekly_supply = cmb.transform_supply(supply, COIN_SYMBOL, freq='weekly')\n",
    "\n",
    "display(weekly_supply.head())\n",
    "display(weekly_supply.tail())"
   ]
  },
  {
   "cell_type": "code",
   "execution_count": 10,
   "metadata": {},
   "outputs": [
    {
     "name": "stdout",
     "output_type": "stream",
     "text": [
      "Wrote 1200 lines to file ../output-data/DOGE_monthly.csv\n"
     ]
    },
    {
     "data": {
      "text/html": [
       "<div>\n",
       "<style scoped>\n",
       "    .dataframe tbody tr th:only-of-type {\n",
       "        vertical-align: middle;\n",
       "    }\n",
       "\n",
       "    .dataframe tbody tr th {\n",
       "        vertical-align: top;\n",
       "    }\n",
       "\n",
       "    .dataframe thead th {\n",
       "        text-align: right;\n",
       "    }\n",
       "</style>\n",
       "<table border=\"1\" class=\"dataframe\">\n",
       "  <thead>\n",
       "    <tr style=\"text-align: right;\">\n",
       "      <th></th>\n",
       "      <th>coin</th>\n",
       "      <th>block</th>\n",
       "      <th>total_supply</th>\n",
       "      <th>total_supply_pct</th>\n",
       "      <th>date</th>\n",
       "    </tr>\n",
       "  </thead>\n",
       "  <tbody>\n",
       "    <tr>\n",
       "      <th>0</th>\n",
       "      <td>DOGE</td>\n",
       "      <td>0</td>\n",
       "      <td>500000</td>\n",
       "      <td>0.000081</td>\n",
       "      <td>2013-12-01</td>\n",
       "    </tr>\n",
       "    <tr>\n",
       "      <th>1</th>\n",
       "      <td>DOGE</td>\n",
       "      <td>42048</td>\n",
       "      <td>21024500000</td>\n",
       "      <td>3.402106</td>\n",
       "      <td>2014-01-01</td>\n",
       "    </tr>\n",
       "    <tr>\n",
       "      <th>2</th>\n",
       "      <td>DOGE</td>\n",
       "      <td>84096</td>\n",
       "      <td>42048500000</td>\n",
       "      <td>6.804130</td>\n",
       "      <td>2014-02-01</td>\n",
       "    </tr>\n",
       "    <tr>\n",
       "      <th>3</th>\n",
       "      <td>DOGE</td>\n",
       "      <td>126144</td>\n",
       "      <td>56536250000</td>\n",
       "      <td>9.148483</td>\n",
       "      <td>2014-03-01</td>\n",
       "    </tr>\n",
       "    <tr>\n",
       "      <th>4</th>\n",
       "      <td>DOGE</td>\n",
       "      <td>168192</td>\n",
       "      <td>67048250000</td>\n",
       "      <td>10.849496</td>\n",
       "      <td>2014-04-01</td>\n",
       "    </tr>\n",
       "  </tbody>\n",
       "</table>\n",
       "</div>"
      ],
      "text/plain": [
       "   coin   block  total_supply  total_supply_pct        date\n",
       "0  DOGE       0        500000          0.000081  2013-12-01\n",
       "1  DOGE   42048   21024500000          3.402106  2014-01-01\n",
       "2  DOGE   84096   42048500000          6.804130  2014-02-01\n",
       "3  DOGE  126144   56536250000          9.148483  2014-03-01\n",
       "4  DOGE  168192   67048250000         10.849496  2014-04-01"
      ]
     },
     "metadata": {},
     "output_type": "display_data"
    },
    {
     "data": {
      "text/html": [
       "<div>\n",
       "<style scoped>\n",
       "    .dataframe tbody tr th:only-of-type {\n",
       "        vertical-align: middle;\n",
       "    }\n",
       "\n",
       "    .dataframe tbody tr th {\n",
       "        vertical-align: top;\n",
       "    }\n",
       "\n",
       "    .dataframe thead th {\n",
       "        text-align: right;\n",
       "    }\n",
       "</style>\n",
       "<table border=\"1\" class=\"dataframe\">\n",
       "  <thead>\n",
       "    <tr style=\"text-align: right;\">\n",
       "      <th></th>\n",
       "      <th>coin</th>\n",
       "      <th>block</th>\n",
       "      <th>total_supply</th>\n",
       "      <th>total_supply_pct</th>\n",
       "      <th>date</th>\n",
       "    </tr>\n",
       "  </thead>\n",
       "  <tbody>\n",
       "    <tr>\n",
       "      <th>1195</th>\n",
       "      <td>DOGE</td>\n",
       "      <td>52370784</td>\n",
       "      <td>616145350000</td>\n",
       "      <td>99.702323</td>\n",
       "      <td>2113-07-01</td>\n",
       "    </tr>\n",
       "    <tr>\n",
       "      <th>1196</th>\n",
       "      <td>DOGE</td>\n",
       "      <td>52412832</td>\n",
       "      <td>616565830000</td>\n",
       "      <td>99.770363</td>\n",
       "      <td>2113-08-01</td>\n",
       "    </tr>\n",
       "    <tr>\n",
       "      <th>1197</th>\n",
       "      <td>DOGE</td>\n",
       "      <td>52460136</td>\n",
       "      <td>617038870000</td>\n",
       "      <td>99.846909</td>\n",
       "      <td>2113-09-01</td>\n",
       "    </tr>\n",
       "    <tr>\n",
       "      <th>1198</th>\n",
       "      <td>DOGE</td>\n",
       "      <td>52502184</td>\n",
       "      <td>617459350000</td>\n",
       "      <td>99.914949</td>\n",
       "      <td>2113-10-01</td>\n",
       "    </tr>\n",
       "    <tr>\n",
       "      <th>1199</th>\n",
       "      <td>DOGE</td>\n",
       "      <td>52544232</td>\n",
       "      <td>617879830000</td>\n",
       "      <td>99.982990</td>\n",
       "      <td>2113-11-01</td>\n",
       "    </tr>\n",
       "  </tbody>\n",
       "</table>\n",
       "</div>"
      ],
      "text/plain": [
       "      coin     block  total_supply  total_supply_pct        date\n",
       "1195  DOGE  52370784  616145350000         99.702323  2113-07-01\n",
       "1196  DOGE  52412832  616565830000         99.770363  2113-08-01\n",
       "1197  DOGE  52460136  617038870000         99.846909  2113-09-01\n",
       "1198  DOGE  52502184  617459350000         99.914949  2113-10-01\n",
       "1199  DOGE  52544232  617879830000         99.982990  2113-11-01"
      ]
     },
     "metadata": {},
     "output_type": "display_data"
    }
   ],
   "source": [
    "monthly_supply = cmb.transform_supply(supply, COIN_SYMBOL, freq='monthly')\n",
    "\n",
    "display(monthly_supply.head())\n",
    "display(monthly_supply.tail())"
   ]
  },
  {
   "cell_type": "code",
   "execution_count": 11,
   "metadata": {},
   "outputs": [
    {
     "name": "stdout",
     "output_type": "stream",
     "text": [
      "Wrote 101 lines to file ../output-data/DOGE_yearly.csv\n"
     ]
    },
    {
     "data": {
      "text/html": [
       "<div>\n",
       "<style scoped>\n",
       "    .dataframe tbody tr th:only-of-type {\n",
       "        vertical-align: middle;\n",
       "    }\n",
       "\n",
       "    .dataframe tbody tr th {\n",
       "        vertical-align: top;\n",
       "    }\n",
       "\n",
       "    .dataframe thead th {\n",
       "        text-align: right;\n",
       "    }\n",
       "</style>\n",
       "<table border=\"1\" class=\"dataframe\">\n",
       "  <thead>\n",
       "    <tr style=\"text-align: right;\">\n",
       "      <th></th>\n",
       "      <th>coin</th>\n",
       "      <th>block</th>\n",
       "      <th>total_supply</th>\n",
       "      <th>total_supply_pct</th>\n",
       "      <th>date</th>\n",
       "    </tr>\n",
       "  </thead>\n",
       "  <tbody>\n",
       "    <tr>\n",
       "      <th>0</th>\n",
       "      <td>DOGE</td>\n",
       "      <td>0</td>\n",
       "      <td>500000</td>\n",
       "      <td>0.000081</td>\n",
       "      <td>2013-12-01</td>\n",
       "    </tr>\n",
       "    <tr>\n",
       "      <th>1</th>\n",
       "      <td>DOGE</td>\n",
       "      <td>42048</td>\n",
       "      <td>21024500000</td>\n",
       "      <td>3.402106</td>\n",
       "      <td>2014-01-01</td>\n",
       "    </tr>\n",
       "    <tr>\n",
       "      <th>2</th>\n",
       "      <td>DOGE</td>\n",
       "      <td>567648</td>\n",
       "      <td>97932015625</td>\n",
       "      <td>15.846990</td>\n",
       "      <td>2015-01-01</td>\n",
       "    </tr>\n",
       "    <tr>\n",
       "      <th>3</th>\n",
       "      <td>DOGE</td>\n",
       "      <td>1093248</td>\n",
       "      <td>103369990000</td>\n",
       "      <td>16.726943</td>\n",
       "      <td>2016-01-01</td>\n",
       "    </tr>\n",
       "    <tr>\n",
       "      <th>4</th>\n",
       "      <td>DOGE</td>\n",
       "      <td>1618848</td>\n",
       "      <td>108625990000</td>\n",
       "      <td>17.577449</td>\n",
       "      <td>2017-01-01</td>\n",
       "    </tr>\n",
       "  </tbody>\n",
       "</table>\n",
       "</div>"
      ],
      "text/plain": [
       "   coin    block  total_supply  total_supply_pct        date\n",
       "0  DOGE        0        500000          0.000081  2013-12-01\n",
       "1  DOGE    42048   21024500000          3.402106  2014-01-01\n",
       "2  DOGE   567648   97932015625         15.846990  2015-01-01\n",
       "3  DOGE  1093248  103369990000         16.726943  2016-01-01\n",
       "4  DOGE  1618848  108625990000         17.577449  2017-01-01"
      ]
     },
     "metadata": {},
     "output_type": "display_data"
    },
    {
     "data": {
      "text/html": [
       "<div>\n",
       "<style scoped>\n",
       "    .dataframe tbody tr th:only-of-type {\n",
       "        vertical-align: middle;\n",
       "    }\n",
       "\n",
       "    .dataframe tbody tr th {\n",
       "        vertical-align: top;\n",
       "    }\n",
       "\n",
       "    .dataframe thead th {\n",
       "        text-align: right;\n",
       "    }\n",
       "</style>\n",
       "<table border=\"1\" class=\"dataframe\">\n",
       "  <thead>\n",
       "    <tr style=\"text-align: right;\">\n",
       "      <th></th>\n",
       "      <th>coin</th>\n",
       "      <th>block</th>\n",
       "      <th>total_supply</th>\n",
       "      <th>total_supply_pct</th>\n",
       "      <th>date</th>\n",
       "    </tr>\n",
       "  </thead>\n",
       "  <tbody>\n",
       "    <tr>\n",
       "      <th>96</th>\n",
       "      <td>DOGE</td>\n",
       "      <td>50005584</td>\n",
       "      <td>592493350000</td>\n",
       "      <td>95.875045</td>\n",
       "      <td>2109-01-01</td>\n",
       "    </tr>\n",
       "    <tr>\n",
       "      <th>97</th>\n",
       "      <td>DOGE</td>\n",
       "      <td>50531184</td>\n",
       "      <td>597749350000</td>\n",
       "      <td>96.725551</td>\n",
       "      <td>2110-01-01</td>\n",
       "    </tr>\n",
       "    <tr>\n",
       "      <th>98</th>\n",
       "      <td>DOGE</td>\n",
       "      <td>51056784</td>\n",
       "      <td>603005350000</td>\n",
       "      <td>97.576057</td>\n",
       "      <td>2111-01-01</td>\n",
       "    </tr>\n",
       "    <tr>\n",
       "      <th>99</th>\n",
       "      <td>DOGE</td>\n",
       "      <td>51582384</td>\n",
       "      <td>608261350000</td>\n",
       "      <td>98.426564</td>\n",
       "      <td>2112-01-01</td>\n",
       "    </tr>\n",
       "    <tr>\n",
       "      <th>100</th>\n",
       "      <td>DOGE</td>\n",
       "      <td>52107984</td>\n",
       "      <td>613517350000</td>\n",
       "      <td>99.277070</td>\n",
       "      <td>2113-01-01</td>\n",
       "    </tr>\n",
       "  </tbody>\n",
       "</table>\n",
       "</div>"
      ],
      "text/plain": [
       "     coin     block  total_supply  total_supply_pct        date\n",
       "96   DOGE  50005584  592493350000         95.875045  2109-01-01\n",
       "97   DOGE  50531184  597749350000         96.725551  2110-01-01\n",
       "98   DOGE  51056784  603005350000         97.576057  2111-01-01\n",
       "99   DOGE  51582384  608261350000         98.426564  2112-01-01\n",
       "100  DOGE  52107984  613517350000         99.277070  2113-01-01"
      ]
     },
     "metadata": {},
     "output_type": "display_data"
    }
   ],
   "source": [
    "yearly_supply = cmb.transform_supply(supply, COIN_SYMBOL, freq='yearly')\n",
    "\n",
    "display(yearly_supply.head())\n",
    "display(yearly_supply.tail())"
   ]
  }
 ],
 "metadata": {
  "kernelspec": {
   "display_name": "Python [default]",
   "language": "python",
   "name": "python3"
  },
  "language_info": {
   "codemirror_mode": {
    "name": "ipython",
    "version": 3
   },
   "file_extension": ".py",
   "mimetype": "text/x-python",
   "name": "python",
   "nbconvert_exporter": "python",
   "pygments_lexer": "ipython3",
   "version": "3.6.5"
  },
  "toc": {
   "base_numbering": 1,
   "nav_menu": {},
   "number_sections": true,
   "sideBar": true,
   "skip_h1_title": false,
   "title_cell": "Table of Contents",
   "title_sidebar": "Contents",
   "toc_cell": false,
   "toc_position": {},
   "toc_section_display": true,
   "toc_window_display": false
  }
 },
 "nbformat": 4,
 "nbformat_minor": 2
}
